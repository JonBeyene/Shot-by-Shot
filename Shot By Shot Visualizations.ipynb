{
 "cells": [
  {
   "cell_type": "markdown",
   "id": "9709a115",
   "metadata": {},
   "source": [
    "# Shot by Shot Visualizations"
   ]
  },
  {
   "cell_type": "code",
   "execution_count": 4,
   "id": "10ca404f",
   "metadata": {},
   "outputs": [],
   "source": [
    "# Importing relevant libraries\n",
    "import pandas as pd\n",
    "import numpy as np\n",
    "import matplotlib.pyplot as plt\n",
    "import random\n",
    "import math"
   ]
  },
  {
   "cell_type": "markdown",
   "id": "85699299",
   "metadata": {},
   "source": [
    "## Reading in data"
   ]
  },
  {
   "cell_type": "code",
   "execution_count": 5,
   "id": "c5768f2c",
   "metadata": {},
   "outputs": [],
   "source": [
    "name_data = pd.read_csv('shot_name_dataset.csv')\n",
    "name_data = name_data.drop(columns = ['Unnamed: 0'])"
   ]
  },
  {
   "cell_type": "code",
   "execution_count": 6,
   "id": "f9a57814",
   "metadata": {},
   "outputs": [
    {
     "name": "stdout",
     "output_type": "stream",
     "text": [
      "           PLAYER_NAME  SHOT_MADE  SHOT_TYPE  LOC_X  LOC_Y  SHOT_DISTANCE  \\\n",
      "0         Bradley Beal          1          0   23.4  12.95             24   \n",
      "1         Monte Morris          1          1   -1.3   5.25              1   \n",
      "2         Monte Morris          0          1   -2.2   6.95              2   \n",
      "3           Kyle Kuzma          1          0   19.7  20.55             24   \n",
      "4           Kyle Kuzma          1          0   -8.3  29.85             25   \n",
      "...                ...        ...        ...    ...    ...            ...   \n",
      "2947516   Shawn Marion          1          1   -0.0   5.25              0   \n",
      "2947517  Erick Dampier          1          1   -0.0   5.25              0   \n",
      "2947518    Kurt Thomas          1          1   -0.0   5.25              0   \n",
      "2947519   Michael Redd          1          1   14.3  11.35             15   \n",
      "2947520  Kenyon Martin          1          1   11.3   7.55             11   \n",
      "\n",
      "         MINS_LEFT  SECS_LEFT    MP    FG%  ...  Reverse Slam Dunk Shot  \\\n",
      "0               11         20  36.0  0.451  ...                     0.0   \n",
      "1               10         39  29.9  0.484  ...                     0.0   \n",
      "2                8         25  29.9  0.484  ...                     0.0   \n",
      "3                7         58  33.4  0.452  ...                     0.0   \n",
      "4                7         29  33.4  0.452  ...                     0.0   \n",
      "...            ...        ...   ...    ...  ...                     ...   \n",
      "2947516         11          7  38.8  0.476  ...                     0.0   \n",
      "2947517         11         12  27.3  0.550  ...                     0.0   \n",
      "2947518         11         31  35.7  0.471  ...                     0.0   \n",
      "2947519         11         31  38.0  0.441  ...                     0.0   \n",
      "2947520         11         45  32.5  0.490  ...                     0.0   \n",
      "\n",
      "         Running Slam Dunk Shot  Running Bank Hook Shot  Jump Bank Hook Shot  \\\n",
      "0                           0.0                     0.0                  0.0   \n",
      "1                           0.0                     0.0                  0.0   \n",
      "2                           0.0                     0.0                  0.0   \n",
      "3                           0.0                     0.0                  0.0   \n",
      "4                           0.0                     0.0                  0.0   \n",
      "...                         ...                     ...                  ...   \n",
      "2947516                     0.0                     0.0                  0.0   \n",
      "2947517                     0.0                     0.0                  0.0   \n",
      "2947518                     0.0                     0.0                  0.0   \n",
      "2947519                     0.0                     0.0                  0.0   \n",
      "2947520                     0.0                     0.0                  0.0   \n",
      "\n",
      "         Putback Reverse Dunk Shot  Driving Finger Roll Shot  \\\n",
      "0                              0.0                       0.0   \n",
      "1                              0.0                       0.0   \n",
      "2                              0.0                       0.0   \n",
      "3                              0.0                       0.0   \n",
      "4                              0.0                       0.0   \n",
      "...                            ...                       ...   \n",
      "2947516                        0.0                       0.0   \n",
      "2947517                        0.0                       0.0   \n",
      "2947518                        0.0                       0.0   \n",
      "2947519                        0.0                       0.0   \n",
      "2947520                        0.0                       0.0   \n",
      "\n",
      "         Finger Roll Shot  Follow Up Dunk Shot  Turnaround Finger Roll Shot  \\\n",
      "0                     0.0                  0.0                          0.0   \n",
      "1                     0.0                  0.0                          0.0   \n",
      "2                     0.0                  0.0                          0.0   \n",
      "3                     0.0                  0.0                          0.0   \n",
      "4                     0.0                  0.0                          0.0   \n",
      "...                   ...                  ...                          ...   \n",
      "2947516               0.0                  0.0                          0.0   \n",
      "2947517               0.0                  0.0                          0.0   \n",
      "2947518               0.0                  0.0                          0.0   \n",
      "2947519               0.0                  0.0                          0.0   \n",
      "2947520               0.0                  0.0                          0.0   \n",
      "\n",
      "         Running Finger Roll Shot  \n",
      "0                             0.0  \n",
      "1                             0.0  \n",
      "2                             0.0  \n",
      "3                             0.0  \n",
      "4                             0.0  \n",
      "...                           ...  \n",
      "2947516                       0.0  \n",
      "2947517                       0.0  \n",
      "2947518                       0.0  \n",
      "2947519                       0.0  \n",
      "2947520                       0.0  \n",
      "\n",
      "[2947521 rows x 85 columns]\n"
     ]
    }
   ],
   "source": [
    "print(name_data)"
   ]
  },
  {
   "cell_type": "code",
   "execution_count": 7,
   "id": "377c4d23",
   "metadata": {},
   "outputs": [
    {
     "name": "stdout",
     "output_type": "stream",
     "text": [
      "          PLAYER_NAME  SHOT_MADE  SHOT_TYPE  LOC_X  LOC_Y  SHOT_DISTANCE  \\\n",
      "126195  Stephen Curry          0          1   -6.0   6.25              6   \n",
      "126196  Stephen Curry          1          1  -15.0  13.15             16   \n",
      "126197  Stephen Curry          0          0   -0.7  32.55             27   \n",
      "126201  Stephen Curry          0          0   15.1  24.95             24   \n",
      "126205  Stephen Curry          0          0    8.1  28.15             24   \n",
      "...               ...        ...        ...    ...    ...            ...   \n",
      "133315  Stephen Curry          0          0   17.2  27.55             28   \n",
      "133317  Stephen Curry          1          0  -12.1  29.15             26   \n",
      "133319  Stephen Curry          1          1   -3.3   6.75              3   \n",
      "133321  Stephen Curry          1          0   22.5  13.15             23   \n",
      "133326  Stephen Curry          0          0   22.4  13.15             23   \n",
      "\n",
      "        MINS_LEFT  SECS_LEFT    MP    FG%  ...  Reverse Slam Dunk Shot  \\\n",
      "126195          7         27  34.5  0.437  ...                     0.0   \n",
      "126196          7         22  34.5  0.437  ...                     0.0   \n",
      "126197          7         11  34.5  0.437  ...                     0.0   \n",
      "126201          5         16  34.5  0.437  ...                     0.0   \n",
      "126205          3         52  34.5  0.437  ...                     0.0   \n",
      "...           ...        ...   ...    ...  ...                     ...   \n",
      "133315          1          3  34.5  0.437  ...                     0.0   \n",
      "133317          0         32  34.5  0.437  ...                     0.0   \n",
      "133319         10         48  34.5  0.437  ...                     0.0   \n",
      "133321         10          0  34.5  0.437  ...                     0.0   \n",
      "133326          6         27  34.5  0.437  ...                     0.0   \n",
      "\n",
      "        Running Slam Dunk Shot  Running Bank Hook Shot  Jump Bank Hook Shot  \\\n",
      "126195                     0.0                     0.0                  0.0   \n",
      "126196                     0.0                     0.0                  0.0   \n",
      "126197                     0.0                     0.0                  0.0   \n",
      "126201                     0.0                     0.0                  0.0   \n",
      "126205                     0.0                     0.0                  0.0   \n",
      "...                        ...                     ...                  ...   \n",
      "133315                     0.0                     0.0                  0.0   \n",
      "133317                     0.0                     0.0                  0.0   \n",
      "133319                     0.0                     0.0                  0.0   \n",
      "133321                     0.0                     0.0                  0.0   \n",
      "133326                     0.0                     0.0                  0.0   \n",
      "\n",
      "        Putback Reverse Dunk Shot  Driving Finger Roll Shot  Finger Roll Shot  \\\n",
      "126195                        0.0                       0.0               0.0   \n",
      "126196                        0.0                       0.0               0.0   \n",
      "126197                        0.0                       0.0               0.0   \n",
      "126201                        0.0                       0.0               0.0   \n",
      "126205                        0.0                       0.0               0.0   \n",
      "...                           ...                       ...               ...   \n",
      "133315                        0.0                       0.0               0.0   \n",
      "133317                        0.0                       0.0               0.0   \n",
      "133319                        0.0                       0.0               0.0   \n",
      "133321                        0.0                       0.0               0.0   \n",
      "133326                        0.0                       0.0               0.0   \n",
      "\n",
      "        Follow Up Dunk Shot  Turnaround Finger Roll Shot  \\\n",
      "126195                  0.0                          0.0   \n",
      "126196                  0.0                          0.0   \n",
      "126197                  0.0                          0.0   \n",
      "126201                  0.0                          0.0   \n",
      "126205                  0.0                          0.0   \n",
      "...                     ...                          ...   \n",
      "133315                  0.0                          0.0   \n",
      "133317                  0.0                          0.0   \n",
      "133319                  0.0                          0.0   \n",
      "133321                  0.0                          0.0   \n",
      "133326                  0.0                          0.0   \n",
      "\n",
      "        Running Finger Roll Shot  \n",
      "126195                       0.0  \n",
      "126196                       0.0  \n",
      "126197                       0.0  \n",
      "126201                       0.0  \n",
      "126205                       0.0  \n",
      "...                          ...  \n",
      "133315                       0.0  \n",
      "133317                       0.0  \n",
      "133319                       0.0  \n",
      "133321                       0.0  \n",
      "133326                       0.0  \n",
      "\n",
      "[1133 rows x 85 columns]\n"
     ]
    }
   ],
   "source": [
    "curry_2021 = name_data[(name_data['PLAYER_NAME'] == 'Stephen Curry') & (name_data['Season'] == 2021)]\n",
    "print(curry_2021)"
   ]
  },
  {
   "cell_type": "code",
   "execution_count": 8,
   "id": "ba5ae635",
   "metadata": {},
   "outputs": [
    {
     "name": "stdout",
     "output_type": "stream",
     "text": [
      "        LOC_X  LOC_Y  SHOT_MADE\n",
      "126195   -6.0   6.25          0\n",
      "126196  -15.0  13.15          1\n",
      "126197   -0.7  32.55          0\n",
      "126201   15.1  24.95          0\n",
      "126205    8.1  28.15          0\n",
      "...       ...    ...        ...\n",
      "133315   17.2  27.55          0\n",
      "133317  -12.1  29.15          1\n",
      "133319   -3.3   6.75          1\n",
      "133321   22.5  13.15          1\n",
      "133326   22.4  13.15          0\n",
      "\n",
      "[1133 rows x 3 columns]\n"
     ]
    }
   ],
   "source": [
    "curry_2021_loc = curry_2021[['LOC_X', 'LOC_Y', 'SHOT_MADE']]\n",
    "print(curry_2021_loc)"
   ]
  },
  {
   "cell_type": "code",
   "execution_count": 9,
   "id": "c2047e84",
   "metadata": {},
   "outputs": [],
   "source": [
    "def circle_points(center=(0, 0), radius=1, points=360):\n",
    "    angles = np.linspace(0, 2 * np.pi, points)\n",
    "    x = center[0] + radius * np.cos(angles)\n",
    "    y = center[1] + radius * np.sin(angles)\n",
    "    return pd.DataFrame({'x': x, 'y': y})\n"
   ]
  },
  {
   "cell_type": "code",
   "execution_count": 10,
   "id": "f8e7bd2a",
   "metadata": {},
   "outputs": [],
   "source": [
    "def draw_basketball_court(shots = None):\n",
    "    width = 50\n",
    "    height = 94 / 2\n",
    "    key_height = 19\n",
    "    inner_key_width = 12\n",
    "    outer_key_width = 16\n",
    "    backboard_width = 6\n",
    "    backboard_offset = 4\n",
    "    neck_length = 0.5\n",
    "    hoop_radius = 0.75\n",
    "    hoop_center_y = backboard_offset\n",
    "    three_point_radius = 23.75 \n",
    "\n",
    "    fig, ax = plt.subplots(figsize=(width / 8, height / 8))\n",
    "\n",
    "    # Outer boundary\n",
    "    outer_boundary = plt.Rectangle((-width / 2, 0), width, height, fill=False)\n",
    "    ax.add_patch(outer_boundary)\n",
    "\n",
    "    # Basketball key\n",
    "    outer_key = plt.Rectangle((-outer_key_width / 2, 0), outer_key_width, key_height, fill=False)\n",
    "    inner_key = plt.Rectangle((-inner_key_width / 2, 0), inner_key_width, key_height, fill=False)\n",
    "    ax.add_patch(outer_key)\n",
    "    ax.add_patch(inner_key)\n",
    "\n",
    "    # Hoop\n",
    "    hoop = circle_points(center=(0, hoop_center_y), radius=hoop_radius)\n",
    "    ax.plot(hoop['x'], hoop['y'], color = 'black')\n",
    "\n",
    "    # Backboard\n",
    "    backboard_left = -backboard_width / 2\n",
    "    backboard_right = backboard_width / 2\n",
    "    ax.plot([backboard_left, backboard_right], [hoop_center_y, hoop_center_y], color='black')\n",
    "\n",
    "    # Three-point line arc\n",
    "    three_point_arc = circle_points(center=(0, hoop_center_y), radius=three_point_radius, points=100)\n",
    "    \n",
    "    # Only keeping upper half of the circle for arc\n",
    "    three_point_arc = three_point_arc[three_point_arc['y'] >= hoop_center_y]\n",
    "    ax.plot(three_point_arc['x'], three_point_arc['y'], color='black')\n",
    "    \n",
    "    if shots is not None:\n",
    "        for index, shot in shots.iterrows():\n",
    "            if shot['SHOT_MADE'] == 1:\n",
    "                color = 'green'\n",
    "            else:\n",
    "                color = 'red'\n",
    "            ax.scatter(shot['LOC_X'], shot['LOC_Y'], c=color)\n",
    "\n",
    "    ax.set_xlim(-width / 2, width / 2)\n",
    "    ax.set_ylim(0, height)\n",
    "    ax.set_xlabel('Court Width')\n",
    "    ax.set_ylabel('Court Length')\n",
    "    ax.set_title('')\n",
    "\n",
    "    plt.show()\n"
   ]
  },
  {
   "cell_type": "code",
   "execution_count": 11,
   "id": "2c4ff193",
   "metadata": {},
   "outputs": [
    {
     "name": "stdout",
     "output_type": "stream",
     "text": [
      "        LOC_X  LOC_Y  SHOT_MADE\n",
      "128268   20.2  24.05          0\n",
      "127729   -8.9  23.25          0\n",
      "132403    2.2  29.35          1\n",
      "126579   -4.2   8.95          1\n",
      "126844  -18.6  28.85          1\n",
      "...       ...    ...        ...\n",
      "131957   15.9   4.85          0\n",
      "132254    2.0  32.55          0\n",
      "128068    3.4  22.85          0\n",
      "128124   -8.3  12.65          1\n",
      "126745   11.6  33.95          1\n",
      "\n",
      "[100 rows x 3 columns]\n"
     ]
    }
   ],
   "source": [
    "# Call the function to draw the court\n",
    "sample_shots = curry_2021_loc.sample(100, random_state = 1)\n",
    "print(sample_shots)"
   ]
  },
  {
   "cell_type": "code",
   "execution_count": 12,
   "id": "46e77396",
   "metadata": {},
   "outputs": [
    {
     "data": {
      "image/png": "[encoded data removed]",
      "text/plain": [
       "<Figure size 625x587.5 with 1 Axes>"
      ]
     },
     "metadata": {},
     "output_type": "display_data"
    }
   ],
   "source": [
    "draw_basketball_court(shots = sample_shots)"
   ]
  },
  {
   "cell_type": "markdown",
   "id": "ddd6f758",
   "metadata": {},
   "source": [
    "# Using Best Model (XGBoost) to predict these same shots"
   ]
  },
  {
   "cell_type": "code",
   "execution_count": 13,
   "id": "91752876",
   "metadata": {},
   "outputs": [],
   "source": [
    "shot_data_curry = curry_2021.copy()"
   ]
  },
  {
   "cell_type": "code",
   "execution_count": 14,
   "id": "382f423c",
   "metadata": {},
   "outputs": [],
   "source": [
    "# Removing PLAYER_NAME\n",
    "shot_data_curry = shot_data_curry.drop(columns = ['PLAYER_NAME'])"
   ]
  },
  {
   "cell_type": "code",
   "execution_count": 15,
   "id": "802f8152",
   "metadata": {},
   "outputs": [],
   "source": [
    "# Creating Xtrain and YTrain\n",
    "training_set = shot_data_curry.drop(index = sample_shots.index)\n",
    "testing_set = shot_data_curry.loc[sample_shots.index]\n",
    "\n",
    "Xtrain = np.array(training_set.drop(columns = ['SHOT_MADE']))\n",
    "Ytrain = np.array(training_set['SHOT_MADE'])\n",
    "\n",
    "Xtest = np.array(testing_set.drop(columns = ['SHOT_MADE']))\n",
    "Ytest = np.array(testing_set['SHOT_MADE'])"
   ]
  },
  {
   "cell_type": "code",
   "execution_count": 16,
   "id": "a6a475cd",
   "metadata": {},
   "outputs": [
    {
     "name": "stdout",
     "output_type": "stream",
     "text": [
      "The accuracy for the XGBoost model for Stephen Curry in 2021 is 0.57\n"
     ]
    }
   ],
   "source": [
    "from xgboost import XGBClassifier\n",
    "xgboost = XGBClassifier(n_estimators = 500, max_leaves = 10, learning_rate = 0.1)\n",
    "xgboost.fit(Xtrain, Ytrain)\n",
    "pred_shot = xgboost.predict(Xtest)\n",
    "curry_score = xgboost.score(Xtest, Ytest)\n",
    "print(f'The accuracy for the XGBoost model for Stephen Curry in 2021 is {curry_score}')"
   ]
  },
  {
   "cell_type": "code",
   "execution_count": 17,
   "id": "f004a88c",
   "metadata": {},
   "outputs": [
    {
     "name": "stdout",
     "output_type": "stream",
     "text": [
      "        LOC_X  LOC_Y  SHOT_MADE\n",
      "128268   20.2  24.05          0\n",
      "127729   -8.9  23.25          1\n",
      "132403    2.2  29.35          1\n",
      "126579   -4.2   8.95          0\n",
      "126844  -18.6  28.85          0\n",
      "...       ...    ...        ...\n",
      "131957   15.9   4.85          0\n",
      "132254    2.0  32.55          0\n",
      "128068    3.4  22.85          0\n",
      "128124   -8.3  12.65          0\n",
      "126745   11.6  33.95          0\n",
      "\n",
      "[100 rows x 3 columns]\n"
     ]
    }
   ],
   "source": [
    "pred_curry = sample_shots.copy()\n",
    "pred_curry['SHOT_MADE'] = pred_shot\n",
    "print(pred_curry)"
   ]
  },
  {
   "cell_type": "code",
   "execution_count": 18,
   "id": "f7ef6059",
   "metadata": {},
   "outputs": [
    {
     "data": {
      "image/png": "[encoded data removed]",
      "text/plain": [
       "<Figure size 625x587.5 with 1 Axes>"
      ]
     },
     "metadata": {},
     "output_type": "display_data"
    }
   ],
   "source": [
    "draw_basketball_court(shots = pred_curry)"
   ]
  },
  {
   "cell_type": "code",
   "execution_count": null,
   "id": "d81aa6f7",
   "metadata": {},
   "outputs": [],
   "source": []
  },
  {
   "cell_type": "code",
   "execution_count": null,
   "id": "309dba7b",
   "metadata": {},
   "outputs": [],
   "source": []
  },
  {
   "cell_type": "code",
   "execution_count": null,
   "id": "20eec3d9",
   "metadata": {},
   "outputs": [],
   "source": []
  }
 ],
 "metadata": {
  "kernelspec": {
   "display_name": "Python 3 (ipykernel)",
   "language": "python",
   "name": "python3"
  },
  "language_info": {
   "codemirror_mode": {
    "name": "ipython",
    "version": 3
   },
   "file_extension": ".py",
   "mimetype": "text/x-python",
   "name": "python",
   "nbconvert_exporter": "python",
   "pygments_lexer": "ipython3",
   "version": "3.11.3"
  }
 },
 "nbformat": 4,
 "nbformat_minor": 5
}
