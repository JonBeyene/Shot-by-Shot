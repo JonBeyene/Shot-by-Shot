{
 "cells": [
  {
   "cell_type": "markdown",
   "id": "1bc0ad6a",
   "metadata": {},
   "source": [
    "# Shot By Shot Data Preprocessing"
   ]
  },
  {
   "cell_type": "code",
   "execution_count": 1,
   "id": "5e4e4120",
   "metadata": {},
   "outputs": [],
   "source": [
    "# import relevant libaries\n",
    "import numpy as np\n",
    "import pandas as pd\n",
    "import random\n",
    "import matplotlib.pyplot as plt"
   ]
  },
  {
   "cell_type": "markdown",
   "id": "eb767f78",
   "metadata": {},
   "source": [
    "## Reading in data"
   ]
  },
  {
   "cell_type": "code",
   "execution_count": 2,
   "id": "2c567726",
   "metadata": {},
   "outputs": [],
   "source": [
    "shot_data = pd.read_csv('/Users/jonathanbeyene/Downloads/NBA_2004_2023_Shots.csv')"
   ]
  },
  {
   "cell_type": "code",
   "execution_count": 3,
   "id": "7b6f0d49",
   "metadata": {},
   "outputs": [
    {
     "name": "stdout",
     "output_type": "stream",
     "text": [
      "         SEASON_1 SEASON_2     TEAM_ID           TEAM_NAME  PLAYER_ID  \\\n",
      "0            2023  2022-23  1610612764  Washington Wizards     203078   \n",
      "1            2023  2022-23  1610612764  Washington Wizards     204001   \n",
      "2            2023  2022-23  1610612764  Washington Wizards    1628420   \n",
      "3            2023  2022-23  1610612764  Washington Wizards     204001   \n",
      "4            2023  2022-23  1610612764  Washington Wizards    1630166   \n",
      "...           ...      ...         ...                 ...        ...   \n",
      "4012556      2004  2003-04  1610612755  Philadelphia 76ers       2422   \n",
      "4012557      2004  2003-04  1610612759   San Antonio Spurs       1938   \n",
      "4012558      2004  2003-04  1610612747  Los Angeles Lakers        406   \n",
      "4012559      2004  2003-04  1610612756        Phoenix Suns       2063   \n",
      "4012560      2004  2003-04  1610612748          Miami Heat       2548   \n",
      "\n",
      "                PLAYER_NAME POSITION_GROUP POSITION   GAME_DATE   GAME_ID  \\\n",
      "0              Bradley Beal              G       SG  10-19-2022  22200004   \n",
      "1        Kristaps Porzingis              C        C  10-19-2022  22200004   \n",
      "2              Monte Morris              G       PG  10-19-2022  22200004   \n",
      "3        Kristaps Porzingis              C        C  10-19-2022  22200004   \n",
      "4               Deni Avdija              F       SF  10-19-2022  22200004   \n",
      "...                     ...            ...      ...         ...       ...   \n",
      "4012556        John Salmons              G       SG  10-28-2003  20300001   \n",
      "4012557       Manu Ginobili              G       SG  10-28-2003  20300002   \n",
      "4012558    Shaquille O'Neal              C        C  10-28-2003  20300003   \n",
      "4012559        Jake Voskuhl              C        C  10-28-2003  20300002   \n",
      "4012560         Dwyane Wade              G       PG  10-28-2003  20300001   \n",
      "\n",
      "         ...             BASIC_ZONE         ZONE_NAME ZONE_ABB  \\\n",
      "0        ...          Left Corner 3         Left Side        L   \n",
      "1        ...      Above the Break 3            Center        C   \n",
      "2        ...        Restricted Area            Center        C   \n",
      "3        ...        Restricted Area            Center        C   \n",
      "4        ...        Restricted Area            Center        C   \n",
      "...      ...                    ...               ...      ...   \n",
      "4012556  ...          Left Corner 3         Left Side        L   \n",
      "4012557  ...      Above the Break 3  Left Side Center       LC   \n",
      "4012558  ...  In The Paint (Non-RA)            Center        C   \n",
      "4012559  ...        Restricted Area            Center        C   \n",
      "4012560  ...        Restricted Area            Center        C   \n",
      "\n",
      "              ZONE_RANGE LOC_X  LOC_Y SHOT_DISTANCE QUARTER MINS_LEFT  \\\n",
      "0                24+ ft.  23.4  12.95            24       1        11   \n",
      "1                24+ ft.  -0.4  31.45            26       1        10   \n",
      "2        Less Than 8 ft.  -1.3   5.25             1       1        10   \n",
      "3        Less Than 8 ft.  -0.1   7.25             2       1        10   \n",
      "4        Less Than 8 ft.   1.8   7.15             2       1        10   \n",
      "...                  ...   ...    ...           ...     ...       ...   \n",
      "4012556          24+ ft.  23.3   9.55            23       1        11   \n",
      "4012557          24+ ft.  15.1  25.85            25       1        11   \n",
      "4012558  Less Than 8 ft.  -4.7   9.85             6       1        11   \n",
      "4012559  Less Than 8 ft.  -2.3   6.05             2       1        11   \n",
      "4012560  Less Than 8 ft.  -0.0   5.25             0       1        11   \n",
      "\n",
      "        SECS_LEFT  \n",
      "0              20  \n",
      "1              52  \n",
      "2              39  \n",
      "3              31  \n",
      "4               5  \n",
      "...           ...  \n",
      "4012556        21  \n",
      "4012557        24  \n",
      "4012558        39  \n",
      "4012559        42  \n",
      "4012560        48  \n",
      "\n",
      "[4012561 rows x 26 columns]\n"
     ]
    }
   ],
   "source": [
    "print(shot_data)"
   ]
  },
  {
   "cell_type": "code",
   "execution_count": 4,
   "id": "1f3ae630",
   "metadata": {},
   "outputs": [
    {
     "name": "stdout",
     "output_type": "stream",
     "text": [
      "Index(['SEASON_1', 'SEASON_2', 'TEAM_ID', 'TEAM_NAME', 'PLAYER_ID',\n",
      "       'PLAYER_NAME', 'POSITION_GROUP', 'POSITION', 'GAME_DATE', 'GAME_ID',\n",
      "       'HOME_TEAM', 'AWAY_TEAM', 'EVENT_TYPE', 'SHOT_MADE', 'ACTION_TYPE',\n",
      "       'SHOT_TYPE', 'BASIC_ZONE', 'ZONE_NAME', 'ZONE_ABB', 'ZONE_RANGE',\n",
      "       'LOC_X', 'LOC_Y', 'SHOT_DISTANCE', 'QUARTER', 'MINS_LEFT', 'SECS_LEFT'],\n",
      "      dtype='object')\n"
     ]
    }
   ],
   "source": [
    "print(shot_data.columns)"
   ]
  },
  {
   "cell_type": "code",
   "execution_count": 5,
   "id": "6efebdd8",
   "metadata": {},
   "outputs": [
    {
     "name": "stdout",
     "output_type": "stream",
     "text": [
      "SEASON_1             0\n",
      "SEASON_2             0\n",
      "TEAM_ID              0\n",
      "TEAM_NAME            0\n",
      "PLAYER_ID            0\n",
      "PLAYER_NAME          0\n",
      "POSITION_GROUP    6666\n",
      "POSITION          6666\n",
      "GAME_DATE            0\n",
      "GAME_ID              0\n",
      "HOME_TEAM            0\n",
      "AWAY_TEAM            0\n",
      "EVENT_TYPE           0\n",
      "SHOT_MADE            0\n",
      "ACTION_TYPE          0\n",
      "SHOT_TYPE            0\n",
      "BASIC_ZONE           0\n",
      "ZONE_NAME            0\n",
      "ZONE_ABB             0\n",
      "ZONE_RANGE           0\n",
      "LOC_X                0\n",
      "LOC_Y                0\n",
      "SHOT_DISTANCE        0\n",
      "QUARTER              0\n",
      "MINS_LEFT            0\n",
      "SECS_LEFT            0\n",
      "dtype: int64\n"
     ]
    }
   ],
   "source": [
    "print(shot_data.isna().sum())"
   ]
  },
  {
   "cell_type": "code",
   "execution_count": 6,
   "id": "0a9f9651",
   "metadata": {},
   "outputs": [],
   "source": [
    "# USING YEAR FOR START OF SEASON\n",
    "shot_data = shot_data.drop(columns = {'SEASON_2', 'TEAM_ID', 'PLAYER_ID', 'GAME_DATE', 'GAME_ID','EVENT_TYPE',\n",
    "                                     'ZONE_ABB', 'QUARTER'})"
   ]
  },
  {
   "cell_type": "code",
   "execution_count": 7,
   "id": "db13a297",
   "metadata": {},
   "outputs": [],
   "source": [
    "shot_data['SEASON_1'] = shot_data['SEASON_1'] - 1"
   ]
  },
  {
   "cell_type": "code",
   "execution_count": 8,
   "id": "2e95bc99",
   "metadata": {},
   "outputs": [
    {
     "name": "stdout",
     "output_type": "stream",
     "text": [
      "         SEASON_1           TEAM_NAME         PLAYER_NAME POSITION_GROUP  \\\n",
      "0            2022  Washington Wizards        Bradley Beal              G   \n",
      "1            2022  Washington Wizards  Kristaps Porzingis              C   \n",
      "2            2022  Washington Wizards        Monte Morris              G   \n",
      "3            2022  Washington Wizards  Kristaps Porzingis              C   \n",
      "4            2022  Washington Wizards         Deni Avdija              F   \n",
      "...           ...                 ...                 ...            ...   \n",
      "4012556      2003  Philadelphia 76ers        John Salmons              G   \n",
      "4012557      2003   San Antonio Spurs       Manu Ginobili              G   \n",
      "4012558      2003  Los Angeles Lakers    Shaquille O'Neal              C   \n",
      "4012559      2003        Phoenix Suns        Jake Voskuhl              C   \n",
      "4012560      2003          Miami Heat         Dwyane Wade              G   \n",
      "\n",
      "        POSITION HOME_TEAM AWAY_TEAM  SHOT_MADE  \\\n",
      "0             SG       IND       WAS       True   \n",
      "1              C       IND       WAS      False   \n",
      "2             PG       IND       WAS       True   \n",
      "3              C       IND       WAS       True   \n",
      "4             SF       IND       WAS       True   \n",
      "...          ...       ...       ...        ...   \n",
      "4012556       SG       PHI       MIA       True   \n",
      "4012557       SG       SAS       PHX      False   \n",
      "4012558        C       LAL       DAL      False   \n",
      "4012559        C       SAS       PHX      False   \n",
      "4012560       PG       PHI       MIA      False   \n",
      "\n",
      "                            ACTION_TYPE       SHOT_TYPE  \\\n",
      "0                             Jump Shot  3PT Field Goal   \n",
      "1                   Step Back Jump shot  3PT Field Goal   \n",
      "2        Running Finger Roll Layup Shot  2PT Field Goal   \n",
      "3                     Cutting Dunk Shot  2PT Field Goal   \n",
      "4                     Cutting Dunk Shot  2PT Field Goal   \n",
      "...                                 ...             ...   \n",
      "4012556                       Jump Shot  3PT Field Goal   \n",
      "4012557                       Jump Shot  3PT Field Goal   \n",
      "4012558                       Jump Shot  2PT Field Goal   \n",
      "4012559                      Layup Shot  2PT Field Goal   \n",
      "4012560                      Layup Shot  2PT Field Goal   \n",
      "\n",
      "                    BASIC_ZONE         ZONE_NAME       ZONE_RANGE  LOC_X  \\\n",
      "0                Left Corner 3         Left Side          24+ ft.   23.4   \n",
      "1            Above the Break 3            Center          24+ ft.   -0.4   \n",
      "2              Restricted Area            Center  Less Than 8 ft.   -1.3   \n",
      "3              Restricted Area            Center  Less Than 8 ft.   -0.1   \n",
      "4              Restricted Area            Center  Less Than 8 ft.    1.8   \n",
      "...                        ...               ...              ...    ...   \n",
      "4012556          Left Corner 3         Left Side          24+ ft.   23.3   \n",
      "4012557      Above the Break 3  Left Side Center          24+ ft.   15.1   \n",
      "4012558  In The Paint (Non-RA)            Center  Less Than 8 ft.   -4.7   \n",
      "4012559        Restricted Area            Center  Less Than 8 ft.   -2.3   \n",
      "4012560        Restricted Area            Center  Less Than 8 ft.   -0.0   \n",
      "\n",
      "         LOC_Y  SHOT_DISTANCE  MINS_LEFT  SECS_LEFT  \n",
      "0        12.95             24         11         20  \n",
      "1        31.45             26         10         52  \n",
      "2         5.25              1         10         39  \n",
      "3         7.25              2         10         31  \n",
      "4         7.15              2         10          5  \n",
      "...        ...            ...        ...        ...  \n",
      "4012556   9.55             23         11         21  \n",
      "4012557  25.85             25         11         24  \n",
      "4012558   9.85              6         11         39  \n",
      "4012559   6.05              2         11         42  \n",
      "4012560   5.25              0         11         48  \n",
      "\n",
      "[4012561 rows x 18 columns]\n"
     ]
    }
   ],
   "source": [
    "print(shot_data)"
   ]
  },
  {
   "cell_type": "code",
   "execution_count": 9,
   "id": "cd2ccca1",
   "metadata": {},
   "outputs": [
    {
     "name": "stdout",
     "output_type": "stream",
     "text": [
      "Index(['SEASON_1', 'TEAM_NAME', 'PLAYER_NAME', 'POSITION_GROUP', 'POSITION',\n",
      "       'HOME_TEAM', 'AWAY_TEAM', 'SHOT_MADE', 'ACTION_TYPE', 'SHOT_TYPE',\n",
      "       'BASIC_ZONE', 'ZONE_NAME', 'ZONE_RANGE', 'LOC_X', 'LOC_Y',\n",
      "       'SHOT_DISTANCE', 'MINS_LEFT', 'SECS_LEFT'],\n",
      "      dtype='object')\n"
     ]
    }
   ],
   "source": [
    "print(shot_data.columns)"
   ]
  },
  {
   "cell_type": "markdown",
   "id": "da3bebe2",
   "metadata": {},
   "source": [
    "## Fixing team names and abbreviations"
   ]
  },
  {
   "cell_type": "markdown",
   "id": "5c755b0e",
   "metadata": {},
   "source": [
    "#### TEAM_NAME"
   ]
  },
  {
   "cell_type": "code",
   "execution_count": 10,
   "id": "ff557466",
   "metadata": {},
   "outputs": [
    {
     "name": "stdout",
     "output_type": "stream",
     "text": [
      "['Washington Wizards' 'Utah Jazz' 'Toronto Raptors' 'San Antonio Spurs'\n",
      " 'Sacramento Kings' 'Portland Trail Blazers' 'Phoenix Suns'\n",
      " 'Philadelphia 76ers' 'Orlando Magic' 'Oklahoma City Thunder'\n",
      " 'New York Knicks' 'New Orleans Pelicans' 'Minnesota Timberwolves'\n",
      " 'Milwaukee Bucks' 'Miami Heat' 'Memphis Grizzlies' 'Los Angeles Lakers'\n",
      " 'LA Clippers' 'Indiana Pacers' 'Houston Rockets' 'Golden State Warriors'\n",
      " 'Detroit Pistons' 'Denver Nuggets' 'Dallas Mavericks'\n",
      " 'Cleveland Cavaliers' 'Chicago Bulls' 'Charlotte Hornets' 'Brooklyn Nets'\n",
      " 'Boston Celtics' 'Atlanta Hawks' 'Los Angeles Clippers'\n",
      " 'Charlotte Bobcats' 'New Orleans Hornets' 'New Jersey Nets'\n",
      " 'Seattle SuperSonics' 'New Orleans/Oklahoma City Hornets']\n"
     ]
    }
   ],
   "source": [
    "print(shot_data['TEAM_NAME'].unique())"
   ]
  },
  {
   "cell_type": "code",
   "execution_count": 11,
   "id": "b4b5dceb",
   "metadata": {},
   "outputs": [
    {
     "name": "stdout",
     "output_type": "stream",
     "text": [
      "36\n"
     ]
    }
   ],
   "source": [
    "print(len(shot_data['TEAM_NAME'].unique()))"
   ]
  },
  {
   "cell_type": "code",
   "execution_count": 12,
   "id": "ca71446e",
   "metadata": {},
   "outputs": [],
   "source": [
    "shot_data = shot_data.replace({'TEAM_NAME': {'Washington Wizards': 'WAS',\n",
    "                                             'Utah Jazz': 'UTA',\n",
    "                                             'Toronto Raptors': 'TOR',\n",
    "                                             'San Antonio Spurs': 'SAS',\n",
    "                                             'Sacramento Kings': 'SAC',\n",
    "                                             'Portland Trail Blazers': 'POR',\n",
    "                                             'Phoenix Suns': 'PHX',\n",
    "                                             'Philadelphia 76ers': 'PHI',\n",
    "                                             'Orlando Magic': 'ORL',\n",
    "                                             'Oklahoma City Thunder':'OKC',\n",
    "                                             'New York Knicks': 'NYK',\n",
    "                                             'New Orleans Pelicans': 'NOP',\n",
    "                                             'Minnesota Timberwolves': 'MIN',\n",
    "                                             'Milwaukee Bucks': 'MIL',\n",
    "                                             'Miami Heat': 'MIA',\n",
    "                                             'Memphis Grizzlies': 'MEM',\n",
    "                                             'Los Angeles Lakers': 'LAL',\n",
    "                                             'LA Clippers': 'LAC',\n",
    "                                             'Indiana Pacers': 'IND',\n",
    "                                             'Houston Rockets':'HOU',\n",
    "                                             'Golden State Warriors':'GSW',\n",
    "                                             'Detroit Pistons':'DET',\n",
    "                                             'Denver Nuggets':'DEN',\n",
    "                                             'Dallas Mavericks': 'DAL',\n",
    "                                             'Cleveland Cavaliers': 'CLE',\n",
    "                                             'Chicago Bulls': 'CHI',\n",
    "                                             'Charlotte Hornets':'CHA',\n",
    "                                             'Brooklyn Nets': 'BKN',\n",
    "                                             'Boston Celtics': 'BOS',\n",
    "                                             'Atlanta Hawks': 'ATL',\n",
    "                                             'Los Angeles Clippers': 'LAC',\n",
    "                                             'Charlotte Bobcats': 'CHA',\n",
    "                                             'New Orleans Hornets': 'NOP',\n",
    "                                             'New Jersey Nets': 'BKN',\n",
    "                                             'Seattle SuperSonics': 'OKC',\n",
    "                                             'New Orleans/Oklahoma City Hornets':'NOP'}})"
   ]
  },
  {
   "cell_type": "code",
   "execution_count": 13,
   "id": "1e51ca70",
   "metadata": {},
   "outputs": [
    {
     "name": "stdout",
     "output_type": "stream",
     "text": [
      "['WAS' 'UTA' 'TOR' 'SAS' 'SAC' 'POR' 'PHX' 'PHI' 'ORL' 'OKC' 'NYK' 'NOP'\n",
      " 'MIN' 'MIL' 'MIA' 'MEM' 'LAL' 'LAC' 'IND' 'HOU' 'GSW' 'DET' 'DEN' 'DAL'\n",
      " 'CLE' 'CHI' 'CHA' 'BKN' 'BOS' 'ATL']\n"
     ]
    }
   ],
   "source": [
    "print(shot_data['TEAM_NAME'].unique())"
   ]
  },
  {
   "cell_type": "code",
   "execution_count": 14,
   "id": "7a00261c",
   "metadata": {},
   "outputs": [
    {
     "name": "stdout",
     "output_type": "stream",
     "text": [
      "30\n"
     ]
    }
   ],
   "source": [
    "print(len(shot_data['TEAM_NAME'].unique()))"
   ]
  },
  {
   "cell_type": "markdown",
   "id": "5c6a0f63",
   "metadata": {},
   "source": [
    "#### HOME_TEAM"
   ]
  },
  {
   "cell_type": "code",
   "execution_count": 15,
   "id": "63a3b989",
   "metadata": {},
   "outputs": [
    {
     "name": "stdout",
     "output_type": "stream",
     "text": [
      "['IND' 'WAS' 'CLE' 'BOS' 'PHI' 'MEM' 'CHA' 'MIA' 'BKN' 'CHI' 'DEN' 'LAC'\n",
      " 'LAL' 'PHX' 'UTA' 'SAC' 'ORL' 'MIL' 'OKC' 'NYK' 'DAL' 'HOU' 'NOP' 'SAS'\n",
      " 'DET' 'GSW' 'POR' 'MIN' 'ATL' 'TOR' 'NOH' 'NJN' 'SEA' 'NOK']\n"
     ]
    }
   ],
   "source": [
    "print(shot_data['HOME_TEAM'].unique())"
   ]
  },
  {
   "cell_type": "code",
   "execution_count": 16,
   "id": "44302710",
   "metadata": {
    "scrolled": true
   },
   "outputs": [
    {
     "name": "stdout",
     "output_type": "stream",
     "text": [
      "34\n"
     ]
    }
   ],
   "source": [
    "print(len(shot_data['HOME_TEAM'].unique()))"
   ]
  },
  {
   "cell_type": "code",
   "execution_count": 17,
   "id": "387be4e9",
   "metadata": {},
   "outputs": [],
   "source": [
    "# New Orleans has new abbriviation NOP but has old abbriviation NOH\n",
    "shot_data.loc[shot_data['HOME_TEAM'] == 'NOH', 'HOME_TEAM'] = 'NOP'\n",
    "\n",
    "# Brooklyn has new abbriviation BKN but has old abbriviation NJN\n",
    "shot_data.loc[shot_data['HOME_TEAM'] == 'NJN', 'HOME_TEAM'] = 'BKN'\n",
    "\n",
    "# Oklahoma has new abbriviation OKC but has old abbriviation SEA\n",
    "shot_data.loc[shot_data['HOME_TEAM'] == 'SEA', 'HOME_TEAM'] = 'OKC'\n",
    "\n",
    "# New Orleans has new abbriviation NOP but has old abbriviation NOK\n",
    "shot_data.loc[shot_data['HOME_TEAM'] == 'NOK', 'HOME_TEAM'] = 'NOP'"
   ]
  },
  {
   "cell_type": "code",
   "execution_count": 18,
   "id": "ff5a2cf0",
   "metadata": {},
   "outputs": [
    {
     "name": "stdout",
     "output_type": "stream",
     "text": [
      "['IND' 'WAS' 'CLE' 'BOS' 'PHI' 'MEM' 'CHA' 'MIA' 'BKN' 'CHI' 'DEN' 'LAC'\n",
      " 'LAL' 'PHX' 'UTA' 'SAC' 'ORL' 'MIL' 'OKC' 'NYK' 'DAL' 'HOU' 'NOP' 'SAS'\n",
      " 'DET' 'GSW' 'POR' 'MIN' 'ATL' 'TOR']\n"
     ]
    }
   ],
   "source": [
    "print(shot_data['HOME_TEAM'].unique())"
   ]
  },
  {
   "cell_type": "code",
   "execution_count": 19,
   "id": "cb8166cb",
   "metadata": {},
   "outputs": [
    {
     "name": "stdout",
     "output_type": "stream",
     "text": [
      "30\n"
     ]
    }
   ],
   "source": [
    "print(len(shot_data['HOME_TEAM'].unique()))"
   ]
  },
  {
   "cell_type": "markdown",
   "id": "2869eed8",
   "metadata": {},
   "source": [
    "##### AWAY_TEAM"
   ]
  },
  {
   "cell_type": "code",
   "execution_count": 20,
   "id": "cfab1ca7",
   "metadata": {},
   "outputs": [
    {
     "name": "stdout",
     "output_type": "stream",
     "text": [
      "['WAS' 'CHI' 'DET' 'IND' 'PHI' 'BKN' 'DAL' 'UTA' 'MEM' 'OKC' 'MIA' 'CHA'\n",
      " 'MIN' 'LAL' 'LAC' 'PHX' 'NOP' 'NYK' 'GSW' 'ORL' 'POR' 'CLE' 'TOR' 'MIL'\n",
      " 'ATL' 'SAC' 'DEN' 'SAS' 'BOS' 'HOU' 'NOH' 'NJN' 'SEA' 'NOK']\n"
     ]
    }
   ],
   "source": [
    "print(shot_data['AWAY_TEAM'].unique())"
   ]
  },
  {
   "cell_type": "code",
   "execution_count": 21,
   "id": "a694f0da",
   "metadata": {
    "scrolled": true
   },
   "outputs": [
    {
     "name": "stdout",
     "output_type": "stream",
     "text": [
      "34\n"
     ]
    }
   ],
   "source": [
    "print(len(shot_data['AWAY_TEAM'].unique()))"
   ]
  },
  {
   "cell_type": "code",
   "execution_count": 22,
   "id": "c0b21a83",
   "metadata": {},
   "outputs": [],
   "source": [
    "# New Orleans has new abbriviation NOP but has old abbriviation NOH\n",
    "shot_data.loc[shot_data['AWAY_TEAM'] == 'NOH', 'AWAY_TEAM'] = 'NOP'\n",
    "\n",
    "# Brooklyn has new abbriviation BKN but has old abbriviation NJN\n",
    "shot_data.loc[shot_data['AWAY_TEAM'] == 'NJN', 'AWAY_TEAM'] = 'BKN'\n",
    "\n",
    "# Oklahoma has new abbriviation OKC but has old abbriviation SEA\n",
    "shot_data.loc[shot_data['AWAY_TEAM'] == 'SEA', 'AWAY_TEAM'] = 'OKC'\n",
    "\n",
    "# New Orleans has new abbriviation NOP but has old abbriviation NOK\n",
    "shot_data.loc[shot_data['AWAY_TEAM'] == 'NOK', 'AWAY_TEAM'] = 'NOP'"
   ]
  },
  {
   "cell_type": "code",
   "execution_count": 23,
   "id": "9075c1ff",
   "metadata": {},
   "outputs": [
    {
     "name": "stdout",
     "output_type": "stream",
     "text": [
      "['IND' 'WAS' 'CLE' 'BOS' 'PHI' 'MEM' 'CHA' 'MIA' 'BKN' 'CHI' 'DEN' 'LAC'\n",
      " 'LAL' 'PHX' 'UTA' 'SAC' 'ORL' 'MIL' 'OKC' 'NYK' 'DAL' 'HOU' 'NOP' 'SAS'\n",
      " 'DET' 'GSW' 'POR' 'MIN' 'ATL' 'TOR']\n"
     ]
    }
   ],
   "source": [
    "print(shot_data['HOME_TEAM'].unique())"
   ]
  },
  {
   "cell_type": "code",
   "execution_count": 24,
   "id": "6863d94b",
   "metadata": {},
   "outputs": [
    {
     "name": "stdout",
     "output_type": "stream",
     "text": [
      "30\n"
     ]
    }
   ],
   "source": [
    "print(len(shot_data['HOME_TEAM'].unique()))"
   ]
  },
  {
   "cell_type": "markdown",
   "id": "b7d4f948",
   "metadata": {},
   "source": [
    "## Finding Opposing Team"
   ]
  },
  {
   "cell_type": "code",
   "execution_count": 25,
   "id": "3bacaf39",
   "metadata": {},
   "outputs": [
    {
     "name": "stdout",
     "output_type": "stream",
     "text": [
      "        HOME_TEAM AWAY_TEAM TEAM_NAME\n",
      "0             IND       WAS       WAS\n",
      "1             IND       WAS       WAS\n",
      "2             IND       WAS       WAS\n",
      "3             IND       WAS       WAS\n",
      "4             IND       WAS       WAS\n",
      "...           ...       ...       ...\n",
      "4012556       PHI       MIA       PHI\n",
      "4012557       SAS       PHX       SAS\n",
      "4012558       LAL       DAL       LAL\n",
      "4012559       SAS       PHX       PHX\n",
      "4012560       PHI       MIA       MIA\n",
      "\n",
      "[4012561 rows x 3 columns]\n"
     ]
    }
   ],
   "source": [
    "print(shot_data[['HOME_TEAM', 'AWAY_TEAM', 'TEAM_NAME']])"
   ]
  },
  {
   "cell_type": "code",
   "execution_count": 26,
   "id": "9739e7ed",
   "metadata": {},
   "outputs": [],
   "source": [
    "def get_opp(row):\n",
    "    if row['HOME_TEAM'] == row['TEAM_NAME']:\n",
    "        return row['AWAY_TEAM']\n",
    "    if row['AWAY_TEAM'] == row['TEAM_NAME']:\n",
    "        return row['HOME_TEAM']"
   ]
  },
  {
   "cell_type": "code",
   "execution_count": 27,
   "id": "2e5748e0",
   "metadata": {},
   "outputs": [],
   "source": [
    "shot_data['OPP_TEAM'] = shot_data.apply(get_opp, axis = 1)"
   ]
  },
  {
   "cell_type": "code",
   "execution_count": 28,
   "id": "ba0f7312",
   "metadata": {},
   "outputs": [
    {
     "name": "stdout",
     "output_type": "stream",
     "text": [
      "        HOME_TEAM AWAY_TEAM TEAM_NAME OPP_TEAM\n",
      "0             IND       WAS       WAS      IND\n",
      "1             IND       WAS       WAS      IND\n",
      "2             IND       WAS       WAS      IND\n",
      "3             IND       WAS       WAS      IND\n",
      "4             IND       WAS       WAS      IND\n",
      "...           ...       ...       ...      ...\n",
      "4012556       PHI       MIA       PHI      MIA\n",
      "4012557       SAS       PHX       SAS      PHX\n",
      "4012558       LAL       DAL       LAL      DAL\n",
      "4012559       SAS       PHX       PHX      SAS\n",
      "4012560       PHI       MIA       MIA      PHI\n",
      "\n",
      "[4012561 rows x 4 columns]\n"
     ]
    }
   ],
   "source": [
    "print(shot_data[['HOME_TEAM', 'AWAY_TEAM', 'TEAM_NAME', 'OPP_TEAM']])"
   ]
  },
  {
   "cell_type": "markdown",
   "id": "c6f757ec",
   "metadata": {},
   "source": [
    "## Fixing Missing Values"
   ]
  },
  {
   "cell_type": "code",
   "execution_count": 29,
   "id": "54908de6",
   "metadata": {},
   "outputs": [
    {
     "name": "stdout",
     "output_type": "stream",
     "text": [
      "SEASON_1             0\n",
      "TEAM_NAME            0\n",
      "PLAYER_NAME          0\n",
      "POSITION_GROUP    6666\n",
      "POSITION          6666\n",
      "HOME_TEAM            0\n",
      "AWAY_TEAM            0\n",
      "SHOT_MADE            0\n",
      "ACTION_TYPE          0\n",
      "SHOT_TYPE            0\n",
      "BASIC_ZONE           0\n",
      "ZONE_NAME            0\n",
      "ZONE_RANGE           0\n",
      "LOC_X                0\n",
      "LOC_Y                0\n",
      "SHOT_DISTANCE        0\n",
      "MINS_LEFT            0\n",
      "SECS_LEFT            0\n",
      "OPP_TEAM             0\n",
      "dtype: int64\n"
     ]
    }
   ],
   "source": [
    "print(shot_data.isna().sum())"
   ]
  },
  {
   "cell_type": "code",
   "execution_count": 30,
   "id": "adb89c69",
   "metadata": {},
   "outputs": [
    {
     "name": "stdout",
     "output_type": "stream",
     "text": [
      "['SG' 'C' 'PG' 'SF' 'PF' 'SG-PG' nan 'SF-SG' 'PF-SF' 'SG-SF' 'PG-SG'\n",
      " 'C-PF' 'SG-PG-SF' 'PF-C' 'SF-PF' 'SF-C' 'SG-PF' 'PG-SF']\n"
     ]
    }
   ],
   "source": [
    "print(shot_data['POSITION'].unique())"
   ]
  },
  {
   "cell_type": "code",
   "execution_count": 31,
   "id": "756db56c",
   "metadata": {},
   "outputs": [
    {
     "name": "stdout",
     "output_type": "stream",
     "text": [
      "['G' 'C' 'F' nan]\n"
     ]
    }
   ],
   "source": [
    "print(shot_data['POSITION_GROUP'].unique())"
   ]
  },
  {
   "cell_type": "code",
   "execution_count": 32,
   "id": "bfc5506e",
   "metadata": {},
   "outputs": [
    {
     "name": "stdout",
     "output_type": "stream",
     "text": [
      "['O.G. Anunoby' 'Jeff Dowtin Jr.' 'John Butler Jr.' 'Chance Comanche'\n",
      " 'AJ Green' 'Xavier Tillman' 'Xavier Tillman Sr.' 'OG Anunoby'\n",
      " 'Jeff Dowtin' 'Charlie Brown Jr.' 'M.J. Walker' 'Trevon Scott'\n",
      " 'P.J. Dozier' 'Cam Reynolds' 'T.J. Leaf' 'Michael Frazier II'\n",
      " 'Jeffery Taylor' 'Vitor Faverani']\n"
     ]
    }
   ],
   "source": [
    "print(shot_data[shot_data['POSITION'].isna()]['PLAYER_NAME'].unique())"
   ]
  },
  {
   "cell_type": "code",
   "execution_count": 33,
   "id": "f93b4b64",
   "metadata": {},
   "outputs": [],
   "source": [
    "def fix_position(row):\n",
    "    if row['POSITION'] != row['POSITION']:\n",
    "        if row['PLAYER_NAME'] == 'O.G. Anunoby':\n",
    "            return 'G'\n",
    "        if row['PLAYER_NAME'] == 'Jeff Dowtin Jr.':\n",
    "            return 'G'\n",
    "        if row['PLAYER_NAME'] == 'John Butler Jr.':\n",
    "            return 'C'\n",
    "        if row['PLAYER_NAME'] == 'Chance Comanche':\n",
    "            return 'C'\n",
    "        if row['PLAYER_NAME'] == 'AJ Green':\n",
    "            return 'G'\n",
    "        if row['PLAYER_NAME'] == 'Xavier Tillman':\n",
    "            return 'F'\n",
    "        if row['PLAYER_NAME'] == 'Xavier Tillman Sr.':\n",
    "            return 'F'\n",
    "        if row['PLAYER_NAME'] == 'OG Anunoby':\n",
    "            return 'G'\n",
    "        if row['PLAYER_NAME'] == 'Jeff Dowtin':\n",
    "            return 'G'\n",
    "        if row['PLAYER_NAME'] == 'Charlie Brown Jr.':\n",
    "            return 'G'\n",
    "        if row['PLAYER_NAME'] == 'M.J. Walker':\n",
    "            return 'G'\n",
    "        if row['PLAYER_NAME'] == 'Trevon Scott':\n",
    "            return 'F'\n",
    "        if row['PLAYER_NAME'] == 'P.J. Dozier':\n",
    "            return 'G'\n",
    "        if row['PLAYER_NAME'] == 'Cam Reynolds':\n",
    "            return 'G'\n",
    "        if row['PLAYER_NAME'] == 'T.J. Leaf':\n",
    "            return 'F'\n",
    "        if row['PLAYER_NAME'] == 'Michael Frazier II':\n",
    "            return 'G'\n",
    "        if row['PLAYER_NAME'] == 'Jeffery Taylor':\n",
    "            return 'G'\n",
    "        if row['PLAYER_NAME'] == 'Vitor Faverani':\n",
    "            return 'F'\n",
    "    else:\n",
    "        return row['POSITION']\n",
    "        "
   ]
  },
  {
   "cell_type": "code",
   "execution_count": 34,
   "id": "5f278669",
   "metadata": {},
   "outputs": [],
   "source": [
    "def fix_position_group(row):\n",
    "    if row['POSITION_GROUP'] != row['POSITION_GROUP']:\n",
    "        if row['PLAYER_NAME'] == 'O.G. Anunoby':\n",
    "            return 'SG-SF'\n",
    "        if row['PLAYER_NAME'] == 'Jeff Dowtin Jr.':\n",
    "            return 'PG'\n",
    "        if row['PLAYER_NAME'] == 'John Butler Jr.':\n",
    "            return 'C'\n",
    "        if row['PLAYER_NAME'] == 'Chance Comanche':\n",
    "            return 'C'\n",
    "        if row['PLAYER_NAME'] == 'AJ Green':\n",
    "            return 'SG'\n",
    "        if row['PLAYER_NAME'] == 'Xavier Tillman':\n",
    "            return 'PF-C'\n",
    "        if row['PLAYER_NAME'] == 'Xavier Tillman Sr.':\n",
    "            return 'PF-C'\n",
    "        if row['PLAYER_NAME'] == 'OG Anunoby':\n",
    "            return 'SG-SF'\n",
    "        if row['PLAYER_NAME'] == 'Jeff Dowtin':\n",
    "            return 'G'\n",
    "        if row['PLAYER_NAME'] == 'Charlie Brown Jr.':\n",
    "            return 'SG-SF'\n",
    "        if row['PLAYER_NAME'] == 'M.J. Walker':\n",
    "            return 'G'\n",
    "        if row['PLAYER_NAME'] == 'Trevon Scott':\n",
    "            return 'SF-PF'\n",
    "        if row['PLAYER_NAME'] == 'P.J. Dozier':\n",
    "            return 'G'\n",
    "        if row['PLAYER_NAME'] == 'Cam Reynolds':\n",
    "            return 'SG-SF'\n",
    "        if row['PLAYER_NAME'] == 'T.J. Leaf':\n",
    "            return 'PF'\n",
    "        if row['PLAYER_NAME'] == 'Michael Frazier II':\n",
    "            return 'PG-SG'\n",
    "        if row['PLAYER_NAME'] == 'Jeffery Taylor':\n",
    "            return 'SF'\n",
    "        if row['PLAYER_NAME'] == 'Vitor Faverani':\n",
    "            return 'PF-C'\n",
    "    else:\n",
    "        return row['POSITION_GROUP']"
   ]
  },
  {
   "cell_type": "code",
   "execution_count": 35,
   "id": "fde70f5b",
   "metadata": {},
   "outputs": [],
   "source": [
    "shot_data['POSITION'] = shot_data.apply(fix_position, axis = 1)"
   ]
  },
  {
   "cell_type": "code",
   "execution_count": 36,
   "id": "832569ab",
   "metadata": {},
   "outputs": [],
   "source": [
    "shot_data['POSITION_GROUP'] = shot_data.apply(fix_position_group, axis = 1)"
   ]
  },
  {
   "cell_type": "code",
   "execution_count": 37,
   "id": "afa13069",
   "metadata": {},
   "outputs": [
    {
     "name": "stdout",
     "output_type": "stream",
     "text": [
      "SEASON_1          0\n",
      "TEAM_NAME         0\n",
      "PLAYER_NAME       0\n",
      "POSITION_GROUP    0\n",
      "POSITION          0\n",
      "HOME_TEAM         0\n",
      "AWAY_TEAM         0\n",
      "SHOT_MADE         0\n",
      "ACTION_TYPE       0\n",
      "SHOT_TYPE         0\n",
      "BASIC_ZONE        0\n",
      "ZONE_NAME         0\n",
      "ZONE_RANGE        0\n",
      "LOC_X             0\n",
      "LOC_Y             0\n",
      "SHOT_DISTANCE     0\n",
      "MINS_LEFT         0\n",
      "SECS_LEFT         0\n",
      "OPP_TEAM          0\n",
      "dtype: int64\n"
     ]
    }
   ],
   "source": [
    "print(shot_data.isna().sum())"
   ]
  },
  {
   "cell_type": "markdown",
   "id": "fbdeecc1",
   "metadata": {},
   "source": [
    "## Adding Previous Year column for later merging"
   ]
  },
  {
   "cell_type": "code",
   "execution_count": 38,
   "id": "676a9f4b",
   "metadata": {},
   "outputs": [],
   "source": [
    "shot_data = shot_data.rename(columns = {'SEASON_1':'SEASON'})"
   ]
  },
  {
   "cell_type": "code",
   "execution_count": 39,
   "id": "67e7a5d2",
   "metadata": {},
   "outputs": [
    {
     "name": "stdout",
     "output_type": "stream",
     "text": [
      "Index(['SEASON', 'TEAM_NAME', 'PLAYER_NAME', 'POSITION_GROUP', 'POSITION',\n",
      "       'HOME_TEAM', 'AWAY_TEAM', 'SHOT_MADE', 'ACTION_TYPE', 'SHOT_TYPE',\n",
      "       'BASIC_ZONE', 'ZONE_NAME', 'ZONE_RANGE', 'LOC_X', 'LOC_Y',\n",
      "       'SHOT_DISTANCE', 'MINS_LEFT', 'SECS_LEFT', 'OPP_TEAM'],\n",
      "      dtype='object')\n"
     ]
    }
   ],
   "source": [
    "print(shot_data.columns)"
   ]
  },
  {
   "cell_type": "code",
   "execution_count": 40,
   "id": "e946bf10",
   "metadata": {},
   "outputs": [],
   "source": [
    "shot_data['PREV_SEASON'] = shot_data['SEASON']-1"
   ]
  },
  {
   "cell_type": "code",
   "execution_count": 41,
   "id": "cefa9328",
   "metadata": {},
   "outputs": [
    {
     "name": "stdout",
     "output_type": "stream",
     "text": [
      "         PREV_SEASON  SEASON\n",
      "0               2021    2022\n",
      "1               2021    2022\n",
      "2               2021    2022\n",
      "3               2021    2022\n",
      "4               2021    2022\n",
      "...              ...     ...\n",
      "4012556         2002    2003\n",
      "4012557         2002    2003\n",
      "4012558         2002    2003\n",
      "4012559         2002    2003\n",
      "4012560         2002    2003\n",
      "\n",
      "[4012561 rows x 2 columns]\n"
     ]
    }
   ],
   "source": [
    "print(shot_data[['PREV_SEASON', 'SEASON']])"
   ]
  },
  {
   "cell_type": "markdown",
   "id": "ba7da240",
   "metadata": {},
   "source": [
    "## Merging with the Player Statistic Dataset"
   ]
  },
  {
   "cell_type": "code",
   "execution_count": 42,
   "id": "79d2d6d3",
   "metadata": {},
   "outputs": [
    {
     "name": "stdout",
     "output_type": "stream",
     "text": [
      "Index(['Rk', 'Player', 'Pos', 'Age', 'Tm', 'G', 'GS', 'MP', 'FG', 'FGA', 'FG%',\n",
      "       '3P', '3PA', '3P%', '2P', '2PA', '2P%', 'eFG%', 'FT', 'FTA', 'FT%',\n",
      "       'ORB', 'DRB', 'TRB', 'AST', 'STL', 'BLK', 'TOV', 'PF', 'PTS', 'Year'],\n",
      "      dtype='object')\n",
      "        Rk               Player Pos  Age   Tm   G  GS    MP   FG   FGA  ...  \\\n",
      "0        1   Mahmoud Abdul-Rauf  PG   28  SAC  31   0  17.1  3.3   8.8  ...   \n",
      "1        2    Tariq Abdul-Wahad  SG   23  SAC  59  16  16.3  2.4   6.1  ...   \n",
      "2        3  Shareef Abdur-Rahim  SF   21  VAN  82  82  36.0  8.0  16.4  ...   \n",
      "3        4       Cory Alexander  PG   24  TOT  60  22  21.6  2.9   6.7  ...   \n",
      "4        4       Cory Alexander  PG   24  SAS  37   3  13.5  1.6   3.9  ...   \n",
      "...    ...                  ...  ..  ...  ...  ..  ..   ...  ...   ...  ...   \n",
      "14568  601       Thaddeus Young  PF   33  TOR  26   0  18.3  2.6   5.5  ...   \n",
      "14569  602           Trae Young  PG   23  ATL  76  76  34.9  9.4  20.3  ...   \n",
      "14570  603       Omer Yurtseven   C   23  MIA  56  12  12.6  2.3   4.4  ...   \n",
      "14571  604          Cody Zeller   C   29  POR  27   0  13.1  1.9   3.3  ...   \n",
      "14572  605          Ivica Zubac   C   24  LAC  76  76  24.4  4.1   6.5  ...   \n",
      "\n",
      "       ORB  DRB  TRB  AST  STL  BLK  TOV   PF   PTS       Year  \n",
      "0      0.2  1.0  1.2  1.9  0.5  0.0  0.6  1.0   7.3  1997-1998  \n",
      "1      0.7  1.2  2.0  0.9  0.6  0.2  1.1  1.4   6.4  1997-1998  \n",
      "2      2.8  4.3  7.1  2.6  1.1  0.9  3.1  2.5  22.3  1997-1998  \n",
      "3      0.3  2.2  2.4  3.5  1.2  0.2  1.9  1.6   8.1  1997-1998  \n",
      "4      0.2  1.1  1.3  1.9  0.7  0.1  1.3  1.4   4.5  1997-1998  \n",
      "...    ...  ...  ...  ...  ...  ...  ...  ...   ...        ...  \n",
      "14568  1.5  2.9  4.4  1.7  1.2  0.4  0.8  1.7   6.3  2021-2022  \n",
      "14569  0.7  3.1  3.7  9.7  0.9  0.1  4.0  1.7  28.4  2021-2022  \n",
      "14570  1.5  3.7  5.3  0.9  0.3  0.4  0.7  1.5   5.3  2021-2022  \n",
      "14571  1.9  2.8  4.6  0.8  0.3  0.2  0.7  2.1   5.2  2021-2022  \n",
      "14572  2.9  5.6  8.5  1.6  0.5  1.0  1.5  2.7  10.3  2021-2022  \n",
      "\n",
      "[14573 rows x 31 columns]\n"
     ]
    }
   ],
   "source": [
    "# Importing Dataset to match Shooter with season stats\n",
    "matching_df = pd.read_csv('/Users/jonathanbeyene/Downloads/NBA_Player_Stats (1).csv')\n",
    "print(matching_df.columns)\n",
    "print(matching_df)"
   ]
  },
  {
   "cell_type": "markdown",
   "id": "a4b6ffc6",
   "metadata": {},
   "source": [
    "## Keeping with convention, since the season is a range we will consider the team that a player started the season with"
   ]
  },
  {
   "cell_type": "code",
   "execution_count": 43,
   "id": "47ca64d5",
   "metadata": {},
   "outputs": [],
   "source": [
    "# Since year is a range we will only consider the team a player ended the season with\n",
    "matching_df = matching_df.rename(columns = {'Year':'Season'})\n",
    "\n",
    "\n",
    "season_start = matching_df['Season'].str.split('-')\n",
    "season_start = season_start.str[0]\n",
    "matching_df['Season'] = season_start.astype(int)"
   ]
  },
  {
   "cell_type": "markdown",
   "id": "2025ed45",
   "metadata": {},
   "source": [
    "## Removing Irrelevant columns and fixing column names"
   ]
  },
  {
   "cell_type": "code",
   "execution_count": 44,
   "id": "7586b125",
   "metadata": {},
   "outputs": [
    {
     "name": "stdout",
     "output_type": "stream",
     "text": [
      "Index(['Player', 'Pos', 'Tm', 'MP', 'FG%', '3P%', '2P%', 'eFG%', 'Season'], dtype='object')\n"
     ]
    }
   ],
   "source": [
    "# removing irrelevant columns from matching dataframe\n",
    "matching_df = matching_df.drop(columns = ['Rk', 'Age', 'G', 'GS', 'FG', 'FGA', '3P', '3PA', '2P', '2PA', 'FT%',\n",
    "                                         'FT', 'FTA', 'ORB', 'DRB', 'TRB', 'AST', 'STL', 'BLK', 'TOV','PF','PTS'])\n",
    "print(matching_df.columns)"
   ]
  },
  {
   "cell_type": "code",
   "execution_count": 45,
   "id": "a587afbb",
   "metadata": {},
   "outputs": [
    {
     "name": "stdout",
     "output_type": "stream",
     "text": [
      "                    Player Pos Team    MP    FG%    3P%    2P%   eFG%  Season\n",
      "0       Mahmoud Abdul-Rauf  PG  SAC  17.1  0.377  0.161  0.405  0.386    1997\n",
      "1        Tariq Abdul-Wahad  SG  SAC  16.3  0.403  0.211  0.414  0.409    1997\n",
      "2      Shareef Abdur-Rahim  SF  VAN  36.0  0.485  0.412  0.488  0.493    1997\n",
      "3           Cory Alexander  PG  TOT  21.6  0.428  0.375  0.469  0.510    1997\n",
      "4           Cory Alexander  PG  SAS  13.5  0.414  0.313  0.494  0.483    1997\n",
      "...                    ...  ..  ...   ...    ...    ...    ...    ...     ...\n",
      "14568       Thaddeus Young  PF  TOR  18.3  0.465  0.395  0.495  0.524    2021\n",
      "14569           Trae Young  PG  ATL  34.9  0.460  0.382  0.512  0.536    2021\n",
      "14570       Omer Yurtseven   C  MIA  12.6  0.526  0.091  0.547  0.528    2021\n",
      "14571          Cody Zeller   C  POR  13.1  0.567  0.000  0.593  0.567    2021\n",
      "14572          Ivica Zubac   C  LAC  24.4  0.626    NaN  0.626  0.626    2021\n",
      "\n",
      "[14573 rows x 9 columns]\n"
     ]
    }
   ],
   "source": [
    "# Renaming Tm to Team\n",
    "matching_df = matching_df.rename(columns = {'Tm':'Team'})\n",
    "matching_df = matching_df.reset_index()\n",
    "matching_df = matching_df.drop(['index'],axis = 1)\n",
    "\n",
    "print(matching_df)"
   ]
  },
  {
   "cell_type": "markdown",
   "id": "a5bd2f5a",
   "metadata": {},
   "source": [
    "## Adjusting team names in matching dataset"
   ]
  },
  {
   "cell_type": "code",
   "execution_count": 46,
   "id": "75e69f18",
   "metadata": {},
   "outputs": [
    {
     "name": "stdout",
     "output_type": "stream",
     "text": [
      "38\n"
     ]
    }
   ],
   "source": [
    "print(len(matching_df['Team'].unique()))"
   ]
  },
  {
   "cell_type": "code",
   "execution_count": 47,
   "id": "226b5b1e",
   "metadata": {},
   "outputs": [
    {
     "name": "stdout",
     "output_type": "stream",
     "text": [
      "['SAC' 'VAN' 'TOT' 'SAS' 'DEN' 'MIL' 'CLE' 'ATL' 'POR' 'BOS' 'ORL' 'UTA'\n",
      " 'DAL' 'SEA' 'GSW' 'CHH' 'MIA' 'LAC' 'PHI' 'LAL' 'NJN' 'IND' 'TOR' 'CHI'\n",
      " 'NYK' 'PHO' 'HOU' 'MIN' 'WAS' 'DET' 'MEM' 'NOH' 'CHA' 'NOK' 'OKC' 'BRK'\n",
      " 'NOP' 'CHO']\n"
     ]
    }
   ],
   "source": [
    "print(matching_df['Team'].unique())"
   ]
  },
  {
   "cell_type": "code",
   "execution_count": 48,
   "id": "0c2099bd",
   "metadata": {},
   "outputs": [],
   "source": [
    "# Brooklyn's new abbreviation is BKN but the dataset has old abbreviation BRK\n",
    "matching_df.loc[matching_df['Team'] == 'BRK', 'Team'] = 'BKN'\n",
    "\n",
    "# Charlotte Hornets new abbreivation is CHA but the data set has old abbreviation CHO\n",
    "matching_df.loc[matching_df['Team'] == 'CHO', 'Team'] = 'CHA'\n",
    "\n",
    "# Charlotte Hornets new abbreivation is CHA but the data set has old abbreviation CHH\n",
    "matching_df.loc[matching_df['Team'] == 'CHH', 'Team'] = 'CHA'\n",
    "\n",
    "# Phoenix new abbreivation is PHX but the data set has old abbreviation PHO\n",
    "matching_df.loc[matching_df['Team'] == 'PHO', 'Team'] = 'PHX'\n",
    "\n",
    "# Brooklyn's new abbreivation is BKN but the data set has old abbreviation NJN\n",
    "matching_df.loc[matching_df['Team'] == 'NJN', 'Team'] = 'BKN'\n",
    "\n",
    "# Oklahoma new abbreivation is OKC but the data set has old abbreviation SEA\n",
    "matching_df.loc[matching_df['Team'] == 'SEA', 'Team'] = 'OKC'\n",
    "\n",
    "# New Orleans new abbreivation is NOP but the data set has old abbreviation NOH\n",
    "matching_df.loc[matching_df['Team'] == 'NOH', 'Team'] = 'NOP'\n",
    "\n",
    "# New Orleans new abbreivation is NOP but the data set has old abbreviation NOK\n",
    "matching_df.loc[matching_df['Team'] == 'NOK', 'Team'] = 'NOP'\n",
    "\n",
    "# Memphis new abbreivation is MEM but the data set has old abbreviation VAN\n",
    "matching_df.loc[matching_df['Team'] == 'VAN', 'Team'] = 'MEM'"
   ]
  },
  {
   "cell_type": "code",
   "execution_count": 49,
   "id": "ee3f4531",
   "metadata": {},
   "outputs": [
    {
     "name": "stdout",
     "output_type": "stream",
     "text": [
      "['SAC' 'MEM' 'TOT' 'SAS' 'DEN' 'MIL' 'CLE' 'ATL' 'POR' 'BOS' 'ORL' 'UTA'\n",
      " 'DAL' 'OKC' 'GSW' 'CHA' 'MIA' 'LAC' 'PHI' 'LAL' 'BKN' 'IND' 'TOR' 'CHI'\n",
      " 'NYK' 'PHX' 'HOU' 'MIN' 'WAS' 'DET' 'NOP']\n"
     ]
    }
   ],
   "source": [
    "print(matching_df['Team'].unique())"
   ]
  },
  {
   "cell_type": "code",
   "execution_count": 50,
   "id": "1983b9fd",
   "metadata": {},
   "outputs": [
    {
     "name": "stdout",
     "output_type": "stream",
     "text": [
      "31\n"
     ]
    }
   ],
   "source": [
    "print(len(matching_df['Team'].unique()))"
   ]
  },
  {
   "cell_type": "markdown",
   "id": "45892794",
   "metadata": {},
   "source": [
    "## Problem occurs when player switches team mid-season"
   ]
  },
  {
   "cell_type": "code",
   "execution_count": 51,
   "id": "8330a995",
   "metadata": {},
   "outputs": [
    {
     "name": "stdout",
     "output_type": "stream",
     "text": [
      "           Player Pos Team    MP    FG%    3P%    2P%   eFG%  Season\n",
      "8115   Quincy Acy  PF  TOR  11.8  0.560  0.500  0.562  0.567    2012\n",
      "8679   Quincy Acy  SF  TOT  13.4  0.468  0.267  0.492  0.482    2013\n",
      "8680   Quincy Acy  SF  TOR   8.7  0.429  0.400  0.444  0.500    2013\n",
      "8681   Quincy Acy  SF  SAC  14.0  0.472  0.200  0.496  0.480    2013\n",
      "9281   Quincy Acy  PF  NYK  18.9  0.459  0.300  0.494  0.486    2014\n",
      "9923   Quincy Acy  PF  SAC  14.8  0.556  0.388  0.606  0.600    2015\n",
      "10493  Quincy Acy  PF  TOT  14.7  0.412  0.411  0.413  0.521    2016\n",
      "10494  Quincy Acy  PF  DAL   8.0  0.294  0.143  0.400  0.324    2016\n",
      "10495  Quincy Acy  PF  BKN  15.9  0.425  0.434  0.414  0.542    2016\n",
      "11079  Quincy Acy  PF  BKN  19.4  0.356  0.349  0.384  0.496    2017\n",
      "11734  Quincy Acy  PF  PHX  12.3  0.222  0.133  0.667  0.278    2018\n"
     ]
    }
   ],
   "source": [
    "# A problem occurs when a player switches teams during the same season\n",
    "# Here is an example of that instance\n",
    "print(matching_df[matching_df['Player'] == 'Quincy Acy'])"
   ]
  },
  {
   "cell_type": "markdown",
   "id": "2559e183",
   "metadata": {},
   "source": [
    "## The trade deadline is usually in Feburary, and to keep unifromity with the rest of my decisions, we will consider the team a player started the season on as their team. "
   ]
  },
  {
   "cell_type": "code",
   "execution_count": 52,
   "id": "c8eda819",
   "metadata": {},
   "outputs": [
    {
     "name": "stdout",
     "output_type": "stream",
     "text": [
      "           Player Pos Team    MP    FG%    3P%    2P%   eFG%  Season\n",
      "8115   Quincy Acy  PF  TOR  11.8  0.560  0.500  0.562  0.567    2012\n",
      "8680   Quincy Acy  SF  TOR   8.7  0.429  0.400  0.444  0.500    2013\n",
      "9281   Quincy Acy  PF  NYK  18.9  0.459  0.300  0.494  0.486    2014\n",
      "9923   Quincy Acy  PF  SAC  14.8  0.556  0.388  0.606  0.600    2015\n",
      "10494  Quincy Acy  PF  DAL   8.0  0.294  0.143  0.400  0.324    2016\n",
      "11079  Quincy Acy  PF  BKN  19.4  0.356  0.349  0.384  0.496    2017\n",
      "11734  Quincy Acy  PF  PHX  12.3  0.222  0.133  0.667  0.278    2018\n"
     ]
    }
   ],
   "source": [
    "# Here we see that Q. Acy played on DAL and BKN (TOT means that the player has played for 2 or more teams that season)\n",
    "# We will only be evaluating using the team a player ended the season with\n",
    "\n",
    "# First drop the TOT\n",
    "matching_df = matching_df[matching_df['Team'] != 'TOT']\n",
    "\n",
    "# Next drop duplicate values but keep the last team they played for during that season\n",
    "matching_df = matching_df.drop_duplicates(subset = ['Player', 'Season', 'Pos'], keep = 'first')\n",
    "\n",
    "print(matching_df[matching_df['Player'] == 'Quincy Acy'])"
   ]
  },
  {
   "cell_type": "markdown",
   "id": "6ebbe970",
   "metadata": {},
   "source": [
    "## Merging Shot Dataset with Player Statistic Dataset"
   ]
  },
  {
   "cell_type": "code",
   "execution_count": 53,
   "id": "c7676010",
   "metadata": {},
   "outputs": [],
   "source": [
    "shot_data = shot_data.merge(matching_df, left_on = ['PLAYER_NAME', 'PREV_SEASON'], right_on = ['Player', 'Season'],\n",
    "                           how = 'left')"
   ]
  },
  {
   "cell_type": "code",
   "execution_count": 54,
   "id": "2208718d",
   "metadata": {},
   "outputs": [
    {
     "name": "stdout",
     "output_type": "stream",
     "text": [
      "SEASON                 0\n",
      "TEAM_NAME              0\n",
      "PLAYER_NAME            0\n",
      "POSITION_GROUP         0\n",
      "POSITION               0\n",
      "HOME_TEAM              0\n",
      "AWAY_TEAM              0\n",
      "SHOT_MADE              0\n",
      "ACTION_TYPE            0\n",
      "SHOT_TYPE              0\n",
      "BASIC_ZONE             0\n",
      "ZONE_NAME              0\n",
      "ZONE_RANGE             0\n",
      "LOC_X                  0\n",
      "LOC_Y                  0\n",
      "SHOT_DISTANCE          0\n",
      "MINS_LEFT              0\n",
      "SECS_LEFT              0\n",
      "OPP_TEAM               0\n",
      "PREV_SEASON            0\n",
      "Player            821833\n",
      "Pos               821833\n",
      "Team              821833\n",
      "MP                821833\n",
      "FG%               823737\n",
      "3P%               993696\n",
      "2P%               825955\n",
      "eFG%              823737\n",
      "Season            821833\n",
      "dtype: int64\n"
     ]
    }
   ],
   "source": [
    "print(shot_data.isna().sum())"
   ]
  },
  {
   "cell_type": "code",
   "execution_count": 55,
   "id": "952e849d",
   "metadata": {},
   "outputs": [],
   "source": [
    "item = shot_data[shot_data['Player'].isna()]"
   ]
  },
  {
   "cell_type": "code",
   "execution_count": 56,
   "id": "04444a7f",
   "metadata": {},
   "outputs": [
    {
     "name": "stdout",
     "output_type": "stream",
     "text": [
      "1790\n"
     ]
    }
   ],
   "source": [
    "# Amount of missing players\n",
    "print(len(item['PLAYER_NAME'].unique()))"
   ]
  },
  {
   "cell_type": "code",
   "execution_count": 57,
   "id": "ab5654cf",
   "metadata": {},
   "outputs": [
    {
     "name": "stdout",
     "output_type": "stream",
     "text": [
      "['Kristaps Porzingis' 'Deni Avdija' 'Johnny Davis' ... 'Jerome Beasley'\n",
      " 'Shane Heal' 'Kirk Penney']\n"
     ]
    }
   ],
   "source": [
    "print(item['PLAYER_NAME'].unique())"
   ]
  },
  {
   "cell_type": "code",
   "execution_count": 58,
   "id": "1b890d8e",
   "metadata": {},
   "outputs": [
    {
     "name": "stdout",
     "output_type": "stream",
     "text": [
      "                Player Pos Team    MP    FG%    3P%    2P%   eFG%  Season\n",
      "3048    Jerome Beasley  PF  MIA   2.5  0.333    NaN  0.333  0.333    2003\n",
      "5852   Michael Beasley  PF  MIA  24.8  0.472  0.407  0.478  0.490    2008\n",
      "6420   Michael Beasley  PF  MIA  29.8  0.450  0.275  0.469  0.463    2009\n",
      "7007   Michael Beasley  SF  MIN  32.3  0.450  0.366  0.463  0.474    2010\n",
      "7603   Michael Beasley  SF  MIN  23.1  0.445  0.376  0.462  0.483    2011\n",
      "8155   Michael Beasley  SF  PHX  20.7  0.405  0.313  0.426  0.434    2012\n",
      "8728   Michael Beasley  SF  MIA  15.1  0.499  0.389  0.518  0.528    2013\n",
      "9321   Michael Beasley  PF  MIA  21.0  0.434  0.235  0.472  0.453    2014\n",
      "9960   Michael Beasley  PF  HOU  18.2  0.522  0.333  0.531  0.529    2015\n",
      "10525    Malik Beasley  SG  DEN   7.5  0.452  0.321  0.533  0.514    2016\n",
      "10526  Michael Beasley  PF  MIL  16.7  0.532  0.419  0.545  0.554    2016\n",
      "11110    Malik Beasley  SG  DEN   9.4  0.410  0.341  0.469  0.489    2017\n",
      "11111  Michael Beasley  PF  NYK  22.3  0.507  0.395  0.520  0.528    2017\n",
      "11772    Malik Beasley  SG  DEN  23.2  0.474  0.402  0.560  0.584    2018\n",
      "11773  Michael Beasley  PF  LAL  10.7  0.490  0.176  0.529  0.500    2018\n",
      "12465    Malik Beasley  SG  DEN  18.2  0.389  0.360  0.421  0.485    2019\n",
      "13111    Malik Beasley  SG  MIN  32.8  0.440  0.399  0.487  0.547    2020\n",
      "13810    Malik Beasley  SG  MIN  25.0  0.391  0.377  0.432  0.532    2021\n"
     ]
    }
   ],
   "source": [
    "print(matching_df[matching_df['Player'].str.contains('Beasley')])"
   ]
  },
  {
   "cell_type": "code",
   "execution_count": 59,
   "id": "ed2154c0",
   "metadata": {},
   "outputs": [
    {
     "name": "stdout",
     "output_type": "stream",
     "text": [
      "         SEASON TEAM_NAME     PLAYER_NAME POSITION_GROUP POSITION HOME_TEAM  \\\n",
      "4044684    2003       MIA  Jerome Beasley              F       PF       LAL   \n",
      "4064768    2003       MIA  Jerome Beasley              F       PF       BOS   \n",
      "4064789    2003       MIA  Jerome Beasley              F       PF       BOS   \n",
      "\n",
      "        AWAY_TEAM  SHOT_MADE           ACTION_TYPE       SHOT_TYPE  ...  \\\n",
      "4044684       MIA      False            Layup Shot  2PT Field Goal  ...   \n",
      "4064768       MIA      False            Layup Shot  2PT Field Goal  ...   \n",
      "4064789       MIA       True  Turnaround Jump Shot  2PT Field Goal  ...   \n",
      "\n",
      "        PREV_SEASON Player  Pos  Team  MP  FG%  3P%  2P% eFG%  Season  \n",
      "4044684        2002    NaN  NaN   NaN NaN  NaN  NaN  NaN  NaN     NaN  \n",
      "4064768        2002    NaN  NaN   NaN NaN  NaN  NaN  NaN  NaN     NaN  \n",
      "4064789        2002    NaN  NaN   NaN NaN  NaN  NaN  NaN  NaN     NaN  \n",
      "\n",
      "[3 rows x 29 columns]\n"
     ]
    }
   ],
   "source": [
    "print(shot_data[shot_data['PLAYER_NAME']=='Jerome Beasley'])"
   ]
  },
  {
   "cell_type": "markdown",
   "id": "c49238c0",
   "metadata": {},
   "source": [
    "Here we see a case where a player one played one season. If we were to use their end of season averages as a feature to predict an in season shot we would be susceptible to data leakage"
   ]
  },
  {
   "cell_type": "code",
   "execution_count": 60,
   "id": "376984ea",
   "metadata": {},
   "outputs": [
    {
     "name": "stdout",
     "output_type": "stream",
     "text": [
      "SEASON                 0\n",
      "TEAM_NAME              0\n",
      "PLAYER_NAME            0\n",
      "POSITION_GROUP         0\n",
      "POSITION               0\n",
      "HOME_TEAM              0\n",
      "AWAY_TEAM              0\n",
      "SHOT_MADE              0\n",
      "ACTION_TYPE            0\n",
      "SHOT_TYPE              0\n",
      "BASIC_ZONE             0\n",
      "ZONE_NAME              0\n",
      "ZONE_RANGE             0\n",
      "LOC_X                  0\n",
      "LOC_Y                  0\n",
      "SHOT_DISTANCE          0\n",
      "MINS_LEFT              0\n",
      "SECS_LEFT              0\n",
      "OPP_TEAM               0\n",
      "PREV_SEASON            0\n",
      "Player            821833\n",
      "Pos               821833\n",
      "Team              821833\n",
      "MP                821833\n",
      "FG%               823737\n",
      "3P%               993696\n",
      "2P%               825955\n",
      "eFG%              823737\n",
      "Season            821833\n",
      "dtype: int64\n"
     ]
    }
   ],
   "source": [
    "print(shot_data.isna().sum())"
   ]
  },
  {
   "cell_type": "markdown",
   "id": "8f410906",
   "metadata": {},
   "source": [
    "## Cleaning Up Dataset"
   ]
  },
  {
   "cell_type": "markdown",
   "id": "6f02c0e4",
   "metadata": {},
   "source": [
    "#### Current barebones approach is to just drop na values"
   ]
  },
  {
   "cell_type": "code",
   "execution_count": 61,
   "id": "25402e60",
   "metadata": {},
   "outputs": [
    {
     "name": "stdout",
     "output_type": "stream",
     "text": [
      "SEASON                 0\n",
      "TEAM_NAME              0\n",
      "PLAYER_NAME            0\n",
      "POSITION_GROUP         0\n",
      "POSITION               0\n",
      "HOME_TEAM              0\n",
      "AWAY_TEAM              0\n",
      "SHOT_MADE              0\n",
      "ACTION_TYPE            0\n",
      "SHOT_TYPE              0\n",
      "BASIC_ZONE             0\n",
      "ZONE_NAME              0\n",
      "ZONE_RANGE             0\n",
      "LOC_X                  0\n",
      "LOC_Y                  0\n",
      "SHOT_DISTANCE          0\n",
      "MINS_LEFT              0\n",
      "SECS_LEFT              0\n",
      "OPP_TEAM               0\n",
      "PREV_SEASON            0\n",
      "Player                 0\n",
      "Pos                    0\n",
      "Team                   0\n",
      "MP                     0\n",
      "FG%                 1904\n",
      "3P%               171863\n",
      "2P%                 4122\n",
      "eFG%                1904\n",
      "Season                 0\n",
      "dtype: int64\n"
     ]
    }
   ],
   "source": [
    "shot_data = shot_data.dropna(subset = ['Player'])\n",
    "print(shot_data.isna().sum())"
   ]
  },
  {
   "cell_type": "markdown",
   "id": "5f24cd3d",
   "metadata": {},
   "source": [
    "#### Fixing missing shooting values"
   ]
  },
  {
   "cell_type": "code",
   "execution_count": 62,
   "id": "1a2d36c1",
   "metadata": {},
   "outputs": [
    {
     "name": "stdout",
     "output_type": "stream",
     "text": [
      "         SEASON TEAM_NAME     PLAYER_NAME POSITION_GROUP POSITION HOME_TEAM  \\\n",
      "118751     2022       LAL  Wenyen Gabriel              F       PF       GSW   \n",
      "119116     2022       LAL  Wenyen Gabriel              F       PF       MIN   \n",
      "119120     2022       LAL  Wenyen Gabriel              F       PF       MIN   \n",
      "119125     2022       LAL  Wenyen Gabriel              F       PF       MIN   \n",
      "119139     2022       LAL  Wenyen Gabriel              F       PF       MIN   \n",
      "...         ...       ...             ...            ...      ...       ...   \n",
      "3861900    2004       ATL    Jelani McCoy              C        C       ATL   \n",
      "3862811    2004       ATL    Jelani McCoy              C        C       ATL   \n",
      "3862820    2004       ATL    Jelani McCoy              C        C       ATL   \n",
      "3862823    2004       ATL    Jelani McCoy              C        C       ATL   \n",
      "3862878    2004       ATL    Jelani McCoy              C        C       ATL   \n",
      "\n",
      "        AWAY_TEAM  SHOT_MADE         ACTION_TYPE       SHOT_TYPE  ...  \\\n",
      "118751        LAL      False          Layup Shot  2PT Field Goal  ...   \n",
      "119116        LAL       True  Cutting Layup Shot  2PT Field Goal  ...   \n",
      "119120        LAL       True          Layup Shot  2PT Field Goal  ...   \n",
      "119125        LAL      False   Cutting Dunk Shot  2PT Field Goal  ...   \n",
      "119139        LAL      False           Jump Shot  3PT Field Goal  ...   \n",
      "...           ...        ...                 ...             ...  ...   \n",
      "3861900       SAS       True           Jump Shot  2PT Field Goal  ...   \n",
      "3862811       SAS      False          Layup Shot  2PT Field Goal  ...   \n",
      "3862820       SAS      False          Layup Shot  2PT Field Goal  ...   \n",
      "3862823       SAS      False          Layup Shot  2PT Field Goal  ...   \n",
      "3862878       SAS      False          Layup Shot  2PT Field Goal  ...   \n",
      "\n",
      "        PREV_SEASON          Player Pos  Team   MP  FG%  3P%  2P% eFG%  Season  \n",
      "118751         2021  Wenyen Gabriel  PF   BKN  1.0  NaN  NaN  NaN  NaN  2021.0  \n",
      "119116         2021  Wenyen Gabriel  PF   BKN  1.0  NaN  NaN  NaN  NaN  2021.0  \n",
      "119120         2021  Wenyen Gabriel  PF   BKN  1.0  NaN  NaN  NaN  NaN  2021.0  \n",
      "119125         2021  Wenyen Gabriel  PF   BKN  1.0  NaN  NaN  NaN  NaN  2021.0  \n",
      "119139         2021  Wenyen Gabriel  PF   BKN  1.0  NaN  NaN  NaN  NaN  2021.0  \n",
      "...             ...             ...  ..   ...  ...  ...  ...  ...  ...     ...  \n",
      "3861900        2003    Jelani McCoy   C   CLE  6.0  NaN  NaN  NaN  NaN  2003.0  \n",
      "3862811        2003    Jelani McCoy   C   CLE  6.0  NaN  NaN  NaN  NaN  2003.0  \n",
      "3862820        2003    Jelani McCoy   C   CLE  6.0  NaN  NaN  NaN  NaN  2003.0  \n",
      "3862823        2003    Jelani McCoy   C   CLE  6.0  NaN  NaN  NaN  NaN  2003.0  \n",
      "3862878        2003    Jelani McCoy   C   CLE  6.0  NaN  NaN  NaN  NaN  2003.0  \n",
      "\n",
      "[1904 rows x 29 columns]\n"
     ]
    }
   ],
   "source": [
    "# At the latter end of their careers, some players enter a game once and do not take a shot for the whole season.\n",
    "# We will be filling these values with 0\n",
    "print(shot_data[shot_data['FG%'].isna()])"
   ]
  },
  {
   "cell_type": "code",
   "execution_count": 63,
   "id": "5814fa47",
   "metadata": {},
   "outputs": [
    {
     "name": "stdout",
     "output_type": "stream",
     "text": [
      "Empty DataFrame\n",
      "Columns: [SEASON, TEAM_NAME, PLAYER_NAME, POSITION_GROUP, POSITION, HOME_TEAM, AWAY_TEAM, SHOT_MADE, ACTION_TYPE, SHOT_TYPE, BASIC_ZONE, ZONE_NAME, ZONE_RANGE, LOC_X, LOC_Y, SHOT_DISTANCE, MINS_LEFT, SECS_LEFT, OPP_TEAM, PREV_SEASON, Player, Pos, Team, MP, FG%, 3P%, 2P%, eFG%, Season]\n",
      "Index: []\n",
      "\n",
      "[0 rows x 29 columns]\n"
     ]
    }
   ],
   "source": [
    "# Filling this value with 0\n",
    "shot_data.loc[shot_data['FG%'].isna(), 'FG%'] = 0\n",
    "print(shot_data[shot_data['FG%'].isna()])"
   ]
  },
  {
   "cell_type": "code",
   "execution_count": 64,
   "id": "6aa6a5a7",
   "metadata": {},
   "outputs": [
    {
     "name": "stdout",
     "output_type": "stream",
     "text": [
      "         SEASON TEAM_NAME     PLAYER_NAME POSITION_GROUP POSITION HOME_TEAM  \\\n",
      "118751     2022       LAL  Wenyen Gabriel              F       PF       GSW   \n",
      "119116     2022       LAL  Wenyen Gabriel              F       PF       MIN   \n",
      "119120     2022       LAL  Wenyen Gabriel              F       PF       MIN   \n",
      "119125     2022       LAL  Wenyen Gabriel              F       PF       MIN   \n",
      "119139     2022       LAL  Wenyen Gabriel              F       PF       MIN   \n",
      "...         ...       ...             ...            ...      ...       ...   \n",
      "3861900    2004       ATL    Jelani McCoy              C        C       ATL   \n",
      "3862811    2004       ATL    Jelani McCoy              C        C       ATL   \n",
      "3862820    2004       ATL    Jelani McCoy              C        C       ATL   \n",
      "3862823    2004       ATL    Jelani McCoy              C        C       ATL   \n",
      "3862878    2004       ATL    Jelani McCoy              C        C       ATL   \n",
      "\n",
      "        AWAY_TEAM  SHOT_MADE         ACTION_TYPE       SHOT_TYPE  ...  \\\n",
      "118751        LAL      False          Layup Shot  2PT Field Goal  ...   \n",
      "119116        LAL       True  Cutting Layup Shot  2PT Field Goal  ...   \n",
      "119120        LAL       True          Layup Shot  2PT Field Goal  ...   \n",
      "119125        LAL      False   Cutting Dunk Shot  2PT Field Goal  ...   \n",
      "119139        LAL      False           Jump Shot  3PT Field Goal  ...   \n",
      "...           ...        ...                 ...             ...  ...   \n",
      "3861900       SAS       True           Jump Shot  2PT Field Goal  ...   \n",
      "3862811       SAS      False          Layup Shot  2PT Field Goal  ...   \n",
      "3862820       SAS      False          Layup Shot  2PT Field Goal  ...   \n",
      "3862823       SAS      False          Layup Shot  2PT Field Goal  ...   \n",
      "3862878       SAS      False          Layup Shot  2PT Field Goal  ...   \n",
      "\n",
      "        PREV_SEASON          Player Pos  Team   MP  FG%  3P%  2P% eFG%  Season  \n",
      "118751         2021  Wenyen Gabriel  PF   BKN  1.0  0.0  NaN  NaN  NaN  2021.0  \n",
      "119116         2021  Wenyen Gabriel  PF   BKN  1.0  0.0  NaN  NaN  NaN  2021.0  \n",
      "119120         2021  Wenyen Gabriel  PF   BKN  1.0  0.0  NaN  NaN  NaN  2021.0  \n",
      "119125         2021  Wenyen Gabriel  PF   BKN  1.0  0.0  NaN  NaN  NaN  2021.0  \n",
      "119139         2021  Wenyen Gabriel  PF   BKN  1.0  0.0  NaN  NaN  NaN  2021.0  \n",
      "...             ...             ...  ..   ...  ...  ...  ...  ...  ...     ...  \n",
      "3861900        2003    Jelani McCoy   C   CLE  6.0  0.0  NaN  NaN  NaN  2003.0  \n",
      "3862811        2003    Jelani McCoy   C   CLE  6.0  0.0  NaN  NaN  NaN  2003.0  \n",
      "3862820        2003    Jelani McCoy   C   CLE  6.0  0.0  NaN  NaN  NaN  2003.0  \n",
      "3862823        2003    Jelani McCoy   C   CLE  6.0  0.0  NaN  NaN  NaN  2003.0  \n",
      "3862878        2003    Jelani McCoy   C   CLE  6.0  0.0  NaN  NaN  NaN  2003.0  \n",
      "\n",
      "[1904 rows x 29 columns]\n"
     ]
    }
   ],
   "source": [
    "# This same reasoning will cause their eFG% to also be null so we will fill it with zero\n",
    "print(shot_data[shot_data['eFG%'].isna()])"
   ]
  },
  {
   "cell_type": "code",
   "execution_count": 65,
   "id": "5a5371c4",
   "metadata": {},
   "outputs": [
    {
     "name": "stdout",
     "output_type": "stream",
     "text": [
      "Empty DataFrame\n",
      "Columns: [SEASON, TEAM_NAME, PLAYER_NAME, POSITION_GROUP, POSITION, HOME_TEAM, AWAY_TEAM, SHOT_MADE, ACTION_TYPE, SHOT_TYPE, BASIC_ZONE, ZONE_NAME, ZONE_RANGE, LOC_X, LOC_Y, SHOT_DISTANCE, MINS_LEFT, SECS_LEFT, OPP_TEAM, PREV_SEASON, Player, Pos, Team, MP, FG%, 3P%, 2P%, eFG%, Season]\n",
      "Index: []\n",
      "\n",
      "[0 rows x 29 columns]\n"
     ]
    }
   ],
   "source": [
    "# Filling with zero\n",
    "shot_data.loc[shot_data['eFG%'].isna(), 'eFG%'] = 0\n",
    "print(shot_data[shot_data['eFG%'].isna()])"
   ]
  },
  {
   "cell_type": "code",
   "execution_count": 66,
   "id": "c7104daa",
   "metadata": {},
   "outputs": [
    {
     "name": "stdout",
     "output_type": "stream",
     "text": [
      "         SEASON TEAM_NAME       PLAYER_NAME POSITION_GROUP POSITION HOME_TEAM  \\\n",
      "1829       2022       WAS  Vernon Carey Jr.              C        C       WAS   \n",
      "1832       2022       WAS  Vernon Carey Jr.              C        C       WAS   \n",
      "3287       2022       WAS  Vernon Carey Jr.              C        C       MIL   \n",
      "4103       2022       WAS  Vernon Carey Jr.              C        C       HOU   \n",
      "4105       2022       WAS  Vernon Carey Jr.              C        C       HOU   \n",
      "...         ...       ...               ...            ...      ...       ...   \n",
      "4066929    2003       MIA       Brian Grant              C        C       PHI   \n",
      "4066931    2003       MIA       Brian Grant              C        C       PHI   \n",
      "4066940    2003       PHI      Kenny Thomas              F       PF       PHI   \n",
      "4066961    2003       PHI      Kenny Thomas              F       PF       PHI   \n",
      "4066979    2003       PHX      Jake Voskuhl              C        C       SAS   \n",
      "\n",
      "        AWAY_TEAM  SHOT_MADE           ACTION_TYPE       SHOT_TYPE  ...  \\\n",
      "1829          MIN      False      Pullup Jump shot  2PT Field Goal  ...   \n",
      "1832          MIN      False  Turnaround Hook Shot  2PT Field Goal  ...   \n",
      "3287          WAS       True     Running Dunk Shot  2PT Field Goal  ...   \n",
      "4103          WAS      False             Jump Shot  2PT Field Goal  ...   \n",
      "4105          WAS      False    Driving Layup Shot  2PT Field Goal  ...   \n",
      "...           ...        ...                   ...             ...  ...   \n",
      "4066929       MIA       True            Layup Shot  2PT Field Goal  ...   \n",
      "4066931       MIA      False            Layup Shot  2PT Field Goal  ...   \n",
      "4066940       MIA      False             Jump Shot  2PT Field Goal  ...   \n",
      "4066961       MIA       True     Running Hook Shot  2PT Field Goal  ...   \n",
      "4066979       PHX      False            Layup Shot  2PT Field Goal  ...   \n",
      "\n",
      "        PREV_SEASON            Player Pos  Team    MP    FG%  3P%    2P%  \\\n",
      "1829           2021  Vernon Carey Jr.   C   CHA   4.3  0.500  NaN  0.500   \n",
      "1832           2021  Vernon Carey Jr.   C   CHA   4.3  0.500  NaN  0.500   \n",
      "3287           2021  Vernon Carey Jr.   C   CHA   4.3  0.500  NaN  0.500   \n",
      "4103           2021  Vernon Carey Jr.   C   CHA   4.3  0.500  NaN  0.500   \n",
      "4105           2021  Vernon Carey Jr.   C   CHA   4.3  0.500  NaN  0.500   \n",
      "...             ...               ...  ..   ...   ...    ...  ...    ...   \n",
      "4066929        2002       Brian Grant   C   MIA  32.2  0.509  NaN  0.509   \n",
      "4066931        2002       Brian Grant   C   MIA  32.2  0.509  NaN  0.509   \n",
      "4066940        2002      Kenny Thomas  PF   HOU  29.3  0.432  NaN  0.432   \n",
      "4066961        2002      Kenny Thomas  PF   HOU  29.3  0.432  NaN  0.432   \n",
      "4066979        2002      Jake Voskuhl   C   PHX  14.6  0.564  NaN  0.564   \n",
      "\n",
      "          eFG%  Season  \n",
      "1829     0.500  2021.0  \n",
      "1832     0.500  2021.0  \n",
      "3287     0.500  2021.0  \n",
      "4103     0.500  2021.0  \n",
      "4105     0.500  2021.0  \n",
      "...        ...     ...  \n",
      "4066929  0.509  2002.0  \n",
      "4066931  0.509  2002.0  \n",
      "4066940  0.432  2002.0  \n",
      "4066961  0.432  2002.0  \n",
      "4066979  0.564  2002.0  \n",
      "\n",
      "[171863 rows x 29 columns]\n"
     ]
    }
   ],
   "source": [
    "# Some players (ex: Centers) have not taken a single 3P shot in a season therefore their 3P% is null.\n",
    "print(shot_data[shot_data['3P%'].isna()])"
   ]
  },
  {
   "cell_type": "code",
   "execution_count": 67,
   "id": "f7a6fad2",
   "metadata": {},
   "outputs": [
    {
     "name": "stdout",
     "output_type": "stream",
     "text": [
      "Empty DataFrame\n",
      "Columns: [SEASON, TEAM_NAME, PLAYER_NAME, POSITION_GROUP, POSITION, HOME_TEAM, AWAY_TEAM, SHOT_MADE, ACTION_TYPE, SHOT_TYPE, BASIC_ZONE, ZONE_NAME, ZONE_RANGE, LOC_X, LOC_Y, SHOT_DISTANCE, MINS_LEFT, SECS_LEFT, OPP_TEAM, PREV_SEASON, Player, Pos, Team, MP, FG%, 3P%, 2P%, eFG%, Season]\n",
      "Index: []\n",
      "\n",
      "[0 rows x 29 columns]\n"
     ]
    }
   ],
   "source": [
    "# Will fill these values with 0\n",
    "shot_data.loc[shot_data['3P%'].isna(), '3P%'] = 0\n",
    "print(shot_data[shot_data['3P%'].isna()])"
   ]
  },
  {
   "cell_type": "code",
   "execution_count": 68,
   "id": "bc604fb4",
   "metadata": {},
   "outputs": [
    {
     "name": "stdout",
     "output_type": "stream",
     "text": [
      "         SEASON TEAM_NAME   PLAYER_NAME POSITION_GROUP POSITION HOME_TEAM  \\\n",
      "91910      2022       MIN     Matt Ryan              F       SF       POR   \n",
      "91913      2022       MIN     Matt Ryan              F       SF       POR   \n",
      "92032      2022       MIN     Matt Ryan              F       SF       OKC   \n",
      "92057      2022       MIN     Matt Ryan              F       SF       OKC   \n",
      "92452      2022       MIN     Matt Ryan              F       SF       MIA   \n",
      "...         ...       ...           ...            ...      ...       ...   \n",
      "3861900    2004       ATL  Jelani McCoy              C        C       ATL   \n",
      "3862811    2004       ATL  Jelani McCoy              C        C       ATL   \n",
      "3862820    2004       ATL  Jelani McCoy              C        C       ATL   \n",
      "3862823    2004       ATL  Jelani McCoy              C        C       ATL   \n",
      "3862878    2004       ATL  Jelani McCoy              C        C       ATL   \n",
      "\n",
      "        AWAY_TEAM  SHOT_MADE        ACTION_TYPE       SHOT_TYPE  ...  \\\n",
      "91910         MIN       True  Running Jump Shot  3PT Field Goal  ...   \n",
      "91913         MIN      False  Running Jump Shot  3PT Field Goal  ...   \n",
      "92032         MIN      False          Jump Shot  3PT Field Goal  ...   \n",
      "92057         MIN      False          Jump Shot  3PT Field Goal  ...   \n",
      "92452         MIN       True          Jump Shot  3PT Field Goal  ...   \n",
      "...           ...        ...                ...             ...  ...   \n",
      "3861900       SAS       True          Jump Shot  2PT Field Goal  ...   \n",
      "3862811       SAS      False         Layup Shot  2PT Field Goal  ...   \n",
      "3862820       SAS      False         Layup Shot  2PT Field Goal  ...   \n",
      "3862823       SAS      False         Layup Shot  2PT Field Goal  ...   \n",
      "3862878       SAS      False         Layup Shot  2PT Field Goal  ...   \n",
      "\n",
      "        PREV_SEASON        Player Pos  Team   MP  FG%  3P%  2P% eFG%  Season  \n",
      "91910          2021     Matt Ryan  SF   BOS  5.0  0.2  0.2  NaN  0.3  2021.0  \n",
      "91913          2021     Matt Ryan  SF   BOS  5.0  0.2  0.2  NaN  0.3  2021.0  \n",
      "92032          2021     Matt Ryan  SF   BOS  5.0  0.2  0.2  NaN  0.3  2021.0  \n",
      "92057          2021     Matt Ryan  SF   BOS  5.0  0.2  0.2  NaN  0.3  2021.0  \n",
      "92452          2021     Matt Ryan  SF   BOS  5.0  0.2  0.2  NaN  0.3  2021.0  \n",
      "...             ...           ...  ..   ...  ...  ...  ...  ...  ...     ...  \n",
      "3861900        2003  Jelani McCoy   C   CLE  6.0  0.0  0.0  NaN  0.0  2003.0  \n",
      "3862811        2003  Jelani McCoy   C   CLE  6.0  0.0  0.0  NaN  0.0  2003.0  \n",
      "3862820        2003  Jelani McCoy   C   CLE  6.0  0.0  0.0  NaN  0.0  2003.0  \n",
      "3862823        2003  Jelani McCoy   C   CLE  6.0  0.0  0.0  NaN  0.0  2003.0  \n",
      "3862878        2003  Jelani McCoy   C   CLE  6.0  0.0  0.0  NaN  0.0  2003.0  \n",
      "\n",
      "[4122 rows x 29 columns]\n"
     ]
    }
   ],
   "source": [
    "# Some players have not taken a 2P shot attempt therefore their 2P% is null.\n",
    "print(shot_data[shot_data['2P%'].isna()])"
   ]
  },
  {
   "cell_type": "code",
   "execution_count": 69,
   "id": "d78a8be0",
   "metadata": {},
   "outputs": [
    {
     "name": "stdout",
     "output_type": "stream",
     "text": [
      "Empty DataFrame\n",
      "Columns: [SEASON, TEAM_NAME, PLAYER_NAME, POSITION_GROUP, POSITION, HOME_TEAM, AWAY_TEAM, SHOT_MADE, ACTION_TYPE, SHOT_TYPE, BASIC_ZONE, ZONE_NAME, ZONE_RANGE, LOC_X, LOC_Y, SHOT_DISTANCE, MINS_LEFT, SECS_LEFT, OPP_TEAM, PREV_SEASON, Player, Pos, Team, MP, FG%, 3P%, 2P%, eFG%, Season]\n",
      "Index: []\n",
      "\n",
      "[0 rows x 29 columns]\n"
     ]
    }
   ],
   "source": [
    "# Will Fill with zero\n",
    "shot_data.loc[shot_data['2P%'].isna(), '2P%'] = 0\n",
    "print(shot_data[shot_data['2P%'].isna()])"
   ]
  },
  {
   "cell_type": "code",
   "execution_count": 70,
   "id": "ac4fd436",
   "metadata": {},
   "outputs": [
    {
     "name": "stdout",
     "output_type": "stream",
     "text": [
      "SEASON            0\n",
      "TEAM_NAME         0\n",
      "PLAYER_NAME       0\n",
      "POSITION_GROUP    0\n",
      "POSITION          0\n",
      "HOME_TEAM         0\n",
      "AWAY_TEAM         0\n",
      "SHOT_MADE         0\n",
      "ACTION_TYPE       0\n",
      "SHOT_TYPE         0\n",
      "BASIC_ZONE        0\n",
      "ZONE_NAME         0\n",
      "ZONE_RANGE        0\n",
      "LOC_X             0\n",
      "LOC_Y             0\n",
      "SHOT_DISTANCE     0\n",
      "MINS_LEFT         0\n",
      "SECS_LEFT         0\n",
      "OPP_TEAM          0\n",
      "PREV_SEASON       0\n",
      "Player            0\n",
      "Pos               0\n",
      "Team              0\n",
      "MP                0\n",
      "FG%               0\n",
      "3P%               0\n",
      "2P%               0\n",
      "eFG%              0\n",
      "Season            0\n",
      "dtype: int64\n"
     ]
    }
   ],
   "source": [
    "# Checking dataset for any lingering null values\n",
    "print(shot_data.isna().sum())"
   ]
  },
  {
   "cell_type": "code",
   "execution_count": 71,
   "id": "1f931d7d",
   "metadata": {},
   "outputs": [
    {
     "name": "stdout",
     "output_type": "stream",
     "text": [
      "         SEASON TEAM_NAME      PLAYER_NAME POSITION_GROUP POSITION HOME_TEAM  \\\n",
      "0          2022       WAS     Bradley Beal              G       SG       IND   \n",
      "2          2022       WAS     Monte Morris              G       PG       IND   \n",
      "6          2022       WAS     Monte Morris              G       PG       IND   \n",
      "7          2022       WAS       Kyle Kuzma              F       PF       IND   \n",
      "8          2022       WAS       Kyle Kuzma              F       PF       IND   \n",
      "...         ...       ...              ...            ...      ...       ...   \n",
      "4066971    2003       DAL    Dirk Nowitzki              C        C       LAL   \n",
      "4066972    2003       SAS      Bruce Bowen              F       SF       SAS   \n",
      "4066975    2003       PHX  Stephon Marbury              G       PG       SAS   \n",
      "4066976    2003       PHI     John Salmons              G       SG       PHI   \n",
      "4066979    2003       PHX     Jake Voskuhl              C        C       SAS   \n",
      "\n",
      "        AWAY_TEAM  SHOT_MADE                     ACTION_TYPE       SHOT_TYPE  \\\n",
      "0             WAS       True                       Jump Shot  3PT Field Goal   \n",
      "2             WAS       True  Running Finger Roll Layup Shot  2PT Field Goal   \n",
      "6             WAS      False  Running Finger Roll Layup Shot  2PT Field Goal   \n",
      "7             WAS       True                       Jump Shot  3PT Field Goal   \n",
      "8             WAS       True                       Jump Shot  3PT Field Goal   \n",
      "...           ...        ...                             ...             ...   \n",
      "4066971       DAL      False                       Jump Shot  3PT Field Goal   \n",
      "4066972       PHX      False                       Jump Shot  2PT Field Goal   \n",
      "4066975       PHX       True                       Jump Shot  2PT Field Goal   \n",
      "4066976       MIA       True                       Jump Shot  3PT Field Goal   \n",
      "4066979       PHX      False                      Layup Shot  2PT Field Goal   \n",
      "\n",
      "         ... PREV_SEASON           Player Pos  Team    MP    FG%    3P%  \\\n",
      "0        ...        2021     Bradley Beal  SG   WAS  36.0  0.451  0.300   \n",
      "2        ...        2021     Monte Morris  PG   DEN  29.9  0.484  0.395   \n",
      "6        ...        2021     Monte Morris  PG   DEN  29.9  0.484  0.395   \n",
      "7        ...        2021       Kyle Kuzma  PF   WAS  33.4  0.452  0.341   \n",
      "8        ...        2021       Kyle Kuzma  PF   WAS  33.4  0.452  0.341   \n",
      "...      ...         ...              ...  ..   ...   ...    ...    ...   \n",
      "4066971  ...        2002    Dirk Nowitzki  PF   DAL  39.0  0.463  0.379   \n",
      "4066972  ...        2002      Bruce Bowen  SF   SAS  31.3  0.466  0.441   \n",
      "4066975  ...        2002  Stephon Marbury  PG   PHX  40.0  0.439  0.301   \n",
      "4066976  ...        2002     John Salmons  PG   PHI   7.9  0.414  0.323   \n",
      "4066979  ...        2002     Jake Voskuhl   C   PHX  14.6  0.564  0.000   \n",
      "\n",
      "           2P%   eFG%  Season  \n",
      "0        0.508  0.492  2021.0  \n",
      "2        0.545  0.564  2021.0  \n",
      "6        0.545  0.564  2021.0  \n",
      "7        0.526  0.520  2021.0  \n",
      "8        0.526  0.520  2021.0  \n",
      "...        ...    ...     ...  \n",
      "4066971  0.493  0.513  2002.0  \n",
      "4066972  0.488  0.571  2002.0  \n",
      "4066975  0.472  0.468  2002.0  \n",
      "4066976  0.447  0.457  2002.0  \n",
      "4066979  0.564  0.564  2002.0  \n",
      "\n",
      "[3245148 rows x 29 columns]\n"
     ]
    }
   ],
   "source": [
    "print(shot_data)"
   ]
  },
  {
   "cell_type": "markdown",
   "id": "632724b0",
   "metadata": {},
   "source": [
    "## Merging in Defensie Rating Statistic"
   ]
  },
  {
   "cell_type": "code",
   "execution_count": 72,
   "id": "6c54d92c",
   "metadata": {},
   "outputs": [
    {
     "name": "stdout",
     "output_type": "stream",
     "text": [
      "[2021 2020 2019 2018 2017 2016 2015 2014 2013 2012 2011 2010 2009 2008\n",
      " 2007 2006 2005 2004 2003 2002]\n"
     ]
    }
   ],
   "source": [
    "print(shot_data['PREV_SEASON'].unique())"
   ]
  },
  {
   "cell_type": "markdown",
   "id": "fdd44dfd",
   "metadata": {},
   "source": [
    "Since the NBA merger occured in 2004 where they established the final 30 NBA teams we will only be looking at years 2004 and onwards"
   ]
  },
  {
   "cell_type": "code",
   "execution_count": 73,
   "id": "f24ef407",
   "metadata": {},
   "outputs": [],
   "source": [
    "shot_data = shot_data[shot_data['PREV_SEASON'] >= 2004]"
   ]
  },
  {
   "cell_type": "code",
   "execution_count": 74,
   "id": "cdf5aa31",
   "metadata": {},
   "outputs": [
    {
     "name": "stdout",
     "output_type": "stream",
     "text": [
      "[2021 2020 2019 2018 2017 2016 2015 2014 2013 2012 2011 2010 2009 2008\n",
      " 2007 2006 2005 2004]\n"
     ]
    }
   ],
   "source": [
    "print(shot_data['PREV_SEASON'].unique())"
   ]
  },
  {
   "cell_type": "code",
   "execution_count": 75,
   "id": "3ec42017",
   "metadata": {},
   "outputs": [
    {
     "name": "stdout",
     "output_type": "stream",
     "text": [
      "    TEAM  YEAR  DEF_RTG\n",
      "0    SAS  2004     97.8\n",
      "1    CHI  2004     99.1\n",
      "2    DET  2004     99.6\n",
      "3    HOU  2004    100.1\n",
      "4    MEM  2004    101.5\n",
      "..   ...   ...      ...\n",
      "535  ATL  2021    113.7\n",
      "536  SAC  2021    114.8\n",
      "537  IND  2021    115.5\n",
      "538  POR  2021    116.3\n",
      "539  HOU  2021    116.4\n",
      "\n",
      "[540 rows x 3 columns]\n"
     ]
    }
   ],
   "source": [
    "defense = pd.read_excel('/Users/jonathanbeyene/Downloads/NBA_DEF_RTG.xlsx')\n",
    "print(defense)"
   ]
  },
  {
   "cell_type": "code",
   "execution_count": 76,
   "id": "c45444b7",
   "metadata": {},
   "outputs": [
    {
     "name": "stdout",
     "output_type": "stream",
     "text": [
      "[2004 2005 2006 2007 2008 2009 2010 2011 2012 2013 2014 2015 2016 2017\n",
      " 2018 2019 2020 2021]\n"
     ]
    }
   ],
   "source": [
    "print(defense['YEAR'].unique())"
   ]
  },
  {
   "cell_type": "code",
   "execution_count": 77,
   "id": "f7af4d51",
   "metadata": {
    "scrolled": true
   },
   "outputs": [],
   "source": [
    "shot_data = shot_data.merge(defense, left_on = ['PREV_SEASON', 'OPP_TEAM'], right_on = ['YEAR', 'TEAM'],\n",
    "                                     how = 'left')\n"
   ]
  },
  {
   "cell_type": "code",
   "execution_count": 78,
   "id": "7f49eceb",
   "metadata": {},
   "outputs": [
    {
     "name": "stdout",
     "output_type": "stream",
     "text": [
      "         SEASON TEAM_NAME    PLAYER_NAME POSITION_GROUP POSITION HOME_TEAM  \\\n",
      "0          2022       WAS   Bradley Beal              G       SG       IND   \n",
      "1          2022       WAS   Monte Morris              G       PG       IND   \n",
      "2          2022       WAS   Monte Morris              G       PG       IND   \n",
      "3          2022       WAS     Kyle Kuzma              F       PF       IND   \n",
      "4          2022       WAS     Kyle Kuzma              F       PF       IND   \n",
      "...         ...       ...            ...            ...      ...       ...   \n",
      "2947516    2005       PHX   Shawn Marion              F       PF       PHX   \n",
      "2947517    2005       DAL  Erick Dampier              C        C       PHX   \n",
      "2947518    2005       PHX    Kurt Thomas              C        C       PHX   \n",
      "2947519    2005       MIL   Michael Redd              G       SG       PHI   \n",
      "2947520    2005       DEN  Kenyon Martin              F       PF       SAS   \n",
      "\n",
      "        AWAY_TEAM  SHOT_MADE                     ACTION_TYPE       SHOT_TYPE  \\\n",
      "0             WAS       True                       Jump Shot  3PT Field Goal   \n",
      "1             WAS       True  Running Finger Roll Layup Shot  2PT Field Goal   \n",
      "2             WAS      False  Running Finger Roll Layup Shot  2PT Field Goal   \n",
      "3             WAS       True                       Jump Shot  3PT Field Goal   \n",
      "4             WAS       True                       Jump Shot  3PT Field Goal   \n",
      "...           ...        ...                             ...             ...   \n",
      "2947516       DAL       True            Alley Oop Layup shot  2PT Field Goal   \n",
      "2947517       DAL       True                      Layup Shot  2PT Field Goal   \n",
      "2947518       DAL       True                      Layup Shot  2PT Field Goal   \n",
      "2947519       MIL       True               Running Jump Shot  2PT Field Goal   \n",
      "2947520       DEN       True                       Jump Shot  2PT Field Goal   \n",
      "\n",
      "         ... Team    MP    FG%    3P%    2P%   eFG%  Season  TEAM  YEAR  \\\n",
      "0        ...  WAS  36.0  0.451  0.300  0.508  0.492  2021.0   IND  2021   \n",
      "1        ...  DEN  29.9  0.484  0.395  0.545  0.564  2021.0   IND  2021   \n",
      "2        ...  DEN  29.9  0.484  0.395  0.545  0.564  2021.0   IND  2021   \n",
      "3        ...  WAS  33.4  0.452  0.341  0.526  0.520  2021.0   IND  2021   \n",
      "4        ...  WAS  33.4  0.452  0.341  0.526  0.520  2021.0   IND  2021   \n",
      "...      ...  ...   ...    ...    ...    ...    ...     ...   ...   ...   \n",
      "2947516  ...  PHX  38.8  0.476  0.334  0.526  0.520  2004.0   DAL  2004   \n",
      "2947517  ...  DAL  27.3  0.550  0.000  0.555  0.550  2004.0   PHX  2004   \n",
      "2947518  ...  NYK  35.7  0.471  0.500  0.470  0.472  2004.0   DAL  2004   \n",
      "2947519  ...  MIL  38.0  0.441  0.355  0.463  0.477  2004.0   PHI  2004   \n",
      "2947520  ...  DEN  32.5  0.490  0.000  0.496  0.490  2004.0   SAS  2004   \n",
      "\n",
      "         DEF_RTG  \n",
      "0          115.5  \n",
      "1          115.5  \n",
      "2          115.5  \n",
      "3          115.5  \n",
      "4          115.5  \n",
      "...          ...  \n",
      "2947516    102.6  \n",
      "2947517    105.7  \n",
      "2947518    102.6  \n",
      "2947519    102.5  \n",
      "2947520     97.8  \n",
      "\n",
      "[2947521 rows x 32 columns]\n"
     ]
    }
   ],
   "source": [
    "print(shot_data)"
   ]
  },
  {
   "cell_type": "code",
   "execution_count": 79,
   "id": "ea9acb01",
   "metadata": {},
   "outputs": [
    {
     "name": "stdout",
     "output_type": "stream",
     "text": [
      "SEASON            0\n",
      "TEAM_NAME         0\n",
      "PLAYER_NAME       0\n",
      "POSITION_GROUP    0\n",
      "POSITION          0\n",
      "HOME_TEAM         0\n",
      "AWAY_TEAM         0\n",
      "SHOT_MADE         0\n",
      "ACTION_TYPE       0\n",
      "SHOT_TYPE         0\n",
      "BASIC_ZONE        0\n",
      "ZONE_NAME         0\n",
      "ZONE_RANGE        0\n",
      "LOC_X             0\n",
      "LOC_Y             0\n",
      "SHOT_DISTANCE     0\n",
      "MINS_LEFT         0\n",
      "SECS_LEFT         0\n",
      "OPP_TEAM          0\n",
      "PREV_SEASON       0\n",
      "Player            0\n",
      "Pos               0\n",
      "Team              0\n",
      "MP                0\n",
      "FG%               0\n",
      "3P%               0\n",
      "2P%               0\n",
      "eFG%              0\n",
      "Season            0\n",
      "TEAM              0\n",
      "YEAR              0\n",
      "DEF_RTG           0\n",
      "dtype: int64\n"
     ]
    }
   ],
   "source": [
    "print(shot_data.isna().sum())"
   ]
  },
  {
   "cell_type": "markdown",
   "id": "999d039f",
   "metadata": {},
   "source": [
    "## Cleaning Up Columns"
   ]
  },
  {
   "cell_type": "code",
   "execution_count": 80,
   "id": "d66abd55",
   "metadata": {},
   "outputs": [],
   "source": [
    "shot_data = shot_data.drop(columns = ['TEAM', 'YEAR'])"
   ]
  },
  {
   "cell_type": "code",
   "execution_count": 81,
   "id": "6bc00edf",
   "metadata": {},
   "outputs": [
    {
     "name": "stdout",
     "output_type": "stream",
     "text": [
      "Index(['SEASON', 'TEAM_NAME', 'PLAYER_NAME', 'POSITION_GROUP', 'POSITION',\n",
      "       'HOME_TEAM', 'AWAY_TEAM', 'SHOT_MADE', 'ACTION_TYPE', 'SHOT_TYPE',\n",
      "       'BASIC_ZONE', 'ZONE_NAME', 'ZONE_RANGE', 'LOC_X', 'LOC_Y',\n",
      "       'SHOT_DISTANCE', 'MINS_LEFT', 'SECS_LEFT', 'OPP_TEAM', 'PREV_SEASON',\n",
      "       'Player', 'Pos', 'Team', 'MP', 'FG%', '3P%', '2P%', 'eFG%', 'Season',\n",
      "       'DEF_RTG'],\n",
      "      dtype='object')\n"
     ]
    }
   ],
   "source": [
    "print(shot_data.columns)"
   ]
  },
  {
   "cell_type": "markdown",
   "id": "7f2a5fbd",
   "metadata": {},
   "source": [
    "## One-Hot Encoding"
   ]
  },
  {
   "cell_type": "markdown",
   "id": "d220d721",
   "metadata": {},
   "source": [
    "#### SHOT_MADE"
   ]
  },
  {
   "cell_type": "code",
   "execution_count": 82,
   "id": "b5f673b8",
   "metadata": {},
   "outputs": [
    {
     "name": "stdout",
     "output_type": "stream",
     "text": [
      "0           True\n",
      "1           True\n",
      "2          False\n",
      "3           True\n",
      "4           True\n",
      "           ...  \n",
      "2947516     True\n",
      "2947517     True\n",
      "2947518     True\n",
      "2947519     True\n",
      "2947520     True\n",
      "Name: SHOT_MADE, Length: 2947521, dtype: bool\n"
     ]
    }
   ],
   "source": [
    "print(shot_data['SHOT_MADE'])"
   ]
  },
  {
   "cell_type": "code",
   "execution_count": 83,
   "id": "caaa86f6",
   "metadata": {},
   "outputs": [
    {
     "name": "stdout",
     "output_type": "stream",
     "text": [
      "0          1\n",
      "1          1\n",
      "2          0\n",
      "3          1\n",
      "4          1\n",
      "          ..\n",
      "2947516    1\n",
      "2947517    1\n",
      "2947518    1\n",
      "2947519    1\n",
      "2947520    1\n",
      "Name: SHOT_MADE, Length: 2947521, dtype: int64\n"
     ]
    }
   ],
   "source": [
    "shot_data['SHOT_MADE'] = shot_data['SHOT_MADE'].astype(int)\n",
    "print(shot_data['SHOT_MADE'])"
   ]
  },
  {
   "cell_type": "markdown",
   "id": "84e32b98",
   "metadata": {},
   "source": [
    "#### SHOT_TYPE\n",
    "#### Let 1 represent a 2-pointer and 0 represent a 3-pointer"
   ]
  },
  {
   "cell_type": "code",
   "execution_count": 84,
   "id": "395544b6",
   "metadata": {},
   "outputs": [
    {
     "name": "stdout",
     "output_type": "stream",
     "text": [
      "['3PT Field Goal' '2PT Field Goal']\n"
     ]
    }
   ],
   "source": [
    "print(shot_data['SHOT_TYPE'].unique())"
   ]
  },
  {
   "cell_type": "code",
   "execution_count": 85,
   "id": "d7c15d54",
   "metadata": {},
   "outputs": [],
   "source": [
    "def get_shot_type(row):\n",
    "    if row['SHOT_TYPE'] == '2PT Field Goal':\n",
    "        return 1\n",
    "    if row['SHOT_TYPE'] == '3PT Field Goal':\n",
    "        return 0"
   ]
  },
  {
   "cell_type": "code",
   "execution_count": 86,
   "id": "992f845d",
   "metadata": {},
   "outputs": [
    {
     "name": "stdout",
     "output_type": "stream",
     "text": [
      "0          0\n",
      "1          1\n",
      "2          1\n",
      "3          0\n",
      "4          0\n",
      "          ..\n",
      "2947516    1\n",
      "2947517    1\n",
      "2947518    1\n",
      "2947519    1\n",
      "2947520    1\n",
      "Name: SHOT_TYPE, Length: 2947521, dtype: int64\n"
     ]
    }
   ],
   "source": [
    "shot_data['SHOT_TYPE'] = shot_data.apply(get_shot_type, axis = 1)\n",
    "print(shot_data['SHOT_TYPE'])"
   ]
  },
  {
   "cell_type": "markdown",
   "id": "2d2c6de1",
   "metadata": {},
   "source": [
    "#### ACTION_TYPE"
   ]
  },
  {
   "cell_type": "code",
   "execution_count": 87,
   "id": "f4483eaa",
   "metadata": {},
   "outputs": [],
   "source": [
    "from sklearn.preprocessing import OneHotEncoder\n",
    "encoder = OneHotEncoder()\n",
    "\n",
    "encoder.fit_transform(np.array(shot_data['ACTION_TYPE']).reshape(-1,1))\n",
    "onehot = encoder.transform(np.array(shot_data['ACTION_TYPE']).reshape(-1,1)).toarray()"
   ]
  },
  {
   "cell_type": "code",
   "execution_count": 88,
   "id": "5f0f1e6d",
   "metadata": {},
   "outputs": [
    {
     "name": "stdout",
     "output_type": "stream",
     "text": [
      "         Jump Shot  Running Finger Roll Layup Shot  Driving Layup Shot  \\\n",
      "0              0.0                             0.0                 0.0   \n",
      "1              0.0                             0.0                 0.0   \n",
      "2              0.0                             0.0                 0.0   \n",
      "3              0.0                             0.0                 0.0   \n",
      "4              0.0                             0.0                 0.0   \n",
      "...            ...                             ...                 ...   \n",
      "2947516        0.0                             1.0                 0.0   \n",
      "2947517        0.0                             0.0                 0.0   \n",
      "2947518        0.0                             0.0                 0.0   \n",
      "2947519        0.0                             0.0                 0.0   \n",
      "2947520        0.0                             0.0                 0.0   \n",
      "\n",
      "         Pullup Jump shot  Driving Finger Roll Layup Shot  Tip Layup Shot  \\\n",
      "0                     0.0                             0.0             0.0   \n",
      "1                     0.0                             0.0             0.0   \n",
      "2                     0.0                             0.0             0.0   \n",
      "3                     0.0                             0.0             0.0   \n",
      "4                     0.0                             0.0             0.0   \n",
      "...                   ...                             ...             ...   \n",
      "2947516               0.0                             0.0             0.0   \n",
      "2947517               0.0                             0.0             0.0   \n",
      "2947518               0.0                             0.0             0.0   \n",
      "2947519               0.0                             0.0             0.0   \n",
      "2947520               0.0                             0.0             0.0   \n",
      "\n",
      "         Step Back Jump shot  Driving Reverse Layup Shot  \\\n",
      "0                        0.0                         0.0   \n",
      "1                        0.0                         0.0   \n",
      "2                        0.0                         0.0   \n",
      "3                        0.0                         0.0   \n",
      "4                        0.0                         0.0   \n",
      "...                      ...                         ...   \n",
      "2947516                  0.0                         0.0   \n",
      "2947517                  0.0                         0.0   \n",
      "2947518                  0.0                         0.0   \n",
      "2947519                  0.0                         0.0   \n",
      "2947520                  0.0                         0.0   \n",
      "\n",
      "         Running Reverse Layup Shot  Layup Shot  ...  Reverse Slam Dunk Shot  \\\n",
      "0                               0.0         0.0  ...                     0.0   \n",
      "1                               0.0         0.0  ...                     0.0   \n",
      "2                               0.0         0.0  ...                     0.0   \n",
      "3                               0.0         0.0  ...                     0.0   \n",
      "4                               0.0         0.0  ...                     0.0   \n",
      "...                             ...         ...  ...                     ...   \n",
      "2947516                         0.0         0.0  ...                     0.0   \n",
      "2947517                         0.0         0.0  ...                     0.0   \n",
      "2947518                         0.0         0.0  ...                     0.0   \n",
      "2947519                         0.0         0.0  ...                     0.0   \n",
      "2947520                         0.0         0.0  ...                     0.0   \n",
      "\n",
      "         Running Slam Dunk Shot  Running Bank Hook Shot  Jump Bank Hook Shot  \\\n",
      "0                           0.0                     0.0                  0.0   \n",
      "1                           0.0                     0.0                  0.0   \n",
      "2                           0.0                     0.0                  0.0   \n",
      "3                           0.0                     0.0                  0.0   \n",
      "4                           0.0                     0.0                  0.0   \n",
      "...                         ...                     ...                  ...   \n",
      "2947516                     0.0                     0.0                  0.0   \n",
      "2947517                     0.0                     0.0                  0.0   \n",
      "2947518                     0.0                     0.0                  0.0   \n",
      "2947519                     0.0                     0.0                  0.0   \n",
      "2947520                     0.0                     0.0                  0.0   \n",
      "\n",
      "         Putback Reverse Dunk Shot  Driving Finger Roll Shot  \\\n",
      "0                              0.0                       0.0   \n",
      "1                              0.0                       0.0   \n",
      "2                              0.0                       0.0   \n",
      "3                              0.0                       0.0   \n",
      "4                              0.0                       0.0   \n",
      "...                            ...                       ...   \n",
      "2947516                        0.0                       0.0   \n",
      "2947517                        0.0                       0.0   \n",
      "2947518                        0.0                       0.0   \n",
      "2947519                        0.0                       0.0   \n",
      "2947520                        0.0                       0.0   \n",
      "\n",
      "         Finger Roll Shot  Follow Up Dunk Shot  Turnaround Finger Roll Shot  \\\n",
      "0                     0.0                  0.0                          0.0   \n",
      "1                     0.0                  0.0                          0.0   \n",
      "2                     0.0                  0.0                          0.0   \n",
      "3                     0.0                  0.0                          0.0   \n",
      "4                     0.0                  0.0                          0.0   \n",
      "...                   ...                  ...                          ...   \n",
      "2947516               0.0                  0.0                          0.0   \n",
      "2947517               0.0                  0.0                          0.0   \n",
      "2947518               0.0                  0.0                          0.0   \n",
      "2947519               0.0                  0.0                          0.0   \n",
      "2947520               0.0                  0.0                          0.0   \n",
      "\n",
      "         Running Finger Roll Shot  \n",
      "0                             0.0  \n",
      "1                             0.0  \n",
      "2                             0.0  \n",
      "3                             0.0  \n",
      "4                             0.0  \n",
      "...                           ...  \n",
      "2947516                       0.0  \n",
      "2947517                       0.0  \n",
      "2947518                       0.0  \n",
      "2947519                       0.0  \n",
      "2947520                       0.0  \n",
      "\n",
      "[2947521 rows x 70 columns]\n"
     ]
    }
   ],
   "source": [
    "action_df = pd.DataFrame(onehot, columns = shot_data['ACTION_TYPE'].unique())\n",
    "print(action_df)"
   ]
  },
  {
   "cell_type": "code",
   "execution_count": 89,
   "id": "c2752939",
   "metadata": {},
   "outputs": [
    {
     "name": "stdout",
     "output_type": "stream",
     "text": [
      "         SEASON TEAM_NAME    PLAYER_NAME POSITION_GROUP POSITION HOME_TEAM  \\\n",
      "0          2022       WAS   Bradley Beal              G       SG       IND   \n",
      "1          2022       WAS   Monte Morris              G       PG       IND   \n",
      "2          2022       WAS   Monte Morris              G       PG       IND   \n",
      "3          2022       WAS     Kyle Kuzma              F       PF       IND   \n",
      "4          2022       WAS     Kyle Kuzma              F       PF       IND   \n",
      "...         ...       ...            ...            ...      ...       ...   \n",
      "2947516    2005       PHX   Shawn Marion              F       PF       PHX   \n",
      "2947517    2005       DAL  Erick Dampier              C        C       PHX   \n",
      "2947518    2005       PHX    Kurt Thomas              C        C       PHX   \n",
      "2947519    2005       MIL   Michael Redd              G       SG       PHI   \n",
      "2947520    2005       DEN  Kenyon Martin              F       PF       SAS   \n",
      "\n",
      "        AWAY_TEAM  SHOT_MADE                     ACTION_TYPE  SHOT_TYPE  ...  \\\n",
      "0             WAS          1                       Jump Shot          0  ...   \n",
      "1             WAS          1  Running Finger Roll Layup Shot          1  ...   \n",
      "2             WAS          0  Running Finger Roll Layup Shot          1  ...   \n",
      "3             WAS          1                       Jump Shot          0  ...   \n",
      "4             WAS          1                       Jump Shot          0  ...   \n",
      "...           ...        ...                             ...        ...  ...   \n",
      "2947516       DAL          1            Alley Oop Layup shot          1  ...   \n",
      "2947517       DAL          1                      Layup Shot          1  ...   \n",
      "2947518       DAL          1                      Layup Shot          1  ...   \n",
      "2947519       MIL          1               Running Jump Shot          1  ...   \n",
      "2947520       DEN          1                       Jump Shot          1  ...   \n",
      "\n",
      "        Reverse Slam Dunk Shot Running Slam Dunk Shot Running Bank Hook Shot  \\\n",
      "0                          0.0                    0.0                    0.0   \n",
      "1                          0.0                    0.0                    0.0   \n",
      "2                          0.0                    0.0                    0.0   \n",
      "3                          0.0                    0.0                    0.0   \n",
      "4                          0.0                    0.0                    0.0   \n",
      "...                        ...                    ...                    ...   \n",
      "2947516                    0.0                    0.0                    0.0   \n",
      "2947517                    0.0                    0.0                    0.0   \n",
      "2947518                    0.0                    0.0                    0.0   \n",
      "2947519                    0.0                    0.0                    0.0   \n",
      "2947520                    0.0                    0.0                    0.0   \n",
      "\n",
      "         Jump Bank Hook Shot  Putback Reverse Dunk Shot  \\\n",
      "0                        0.0                        0.0   \n",
      "1                        0.0                        0.0   \n",
      "2                        0.0                        0.0   \n",
      "3                        0.0                        0.0   \n",
      "4                        0.0                        0.0   \n",
      "...                      ...                        ...   \n",
      "2947516                  0.0                        0.0   \n",
      "2947517                  0.0                        0.0   \n",
      "2947518                  0.0                        0.0   \n",
      "2947519                  0.0                        0.0   \n",
      "2947520                  0.0                        0.0   \n",
      "\n",
      "         Driving Finger Roll Shot  Finger Roll Shot  Follow Up Dunk Shot  \\\n",
      "0                             0.0               0.0                  0.0   \n",
      "1                             0.0               0.0                  0.0   \n",
      "2                             0.0               0.0                  0.0   \n",
      "3                             0.0               0.0                  0.0   \n",
      "4                             0.0               0.0                  0.0   \n",
      "...                           ...               ...                  ...   \n",
      "2947516                       0.0               0.0                  0.0   \n",
      "2947517                       0.0               0.0                  0.0   \n",
      "2947518                       0.0               0.0                  0.0   \n",
      "2947519                       0.0               0.0                  0.0   \n",
      "2947520                       0.0               0.0                  0.0   \n",
      "\n",
      "        Turnaround Finger Roll Shot  Running Finger Roll Shot  \n",
      "0                               0.0                       0.0  \n",
      "1                               0.0                       0.0  \n",
      "2                               0.0                       0.0  \n",
      "3                               0.0                       0.0  \n",
      "4                               0.0                       0.0  \n",
      "...                             ...                       ...  \n",
      "2947516                         0.0                       0.0  \n",
      "2947517                         0.0                       0.0  \n",
      "2947518                         0.0                       0.0  \n",
      "2947519                         0.0                       0.0  \n",
      "2947520                         0.0                       0.0  \n",
      "\n",
      "[2947521 rows x 100 columns]\n"
     ]
    }
   ],
   "source": [
    "shot_data = pd.concat([shot_data, action_df], axis = 1)\n",
    "print(shot_data)"
   ]
  },
  {
   "cell_type": "code",
   "execution_count": 90,
   "id": "8fb193cb",
   "metadata": {},
   "outputs": [
    {
     "name": "stdout",
     "output_type": "stream",
     "text": [
      "Index(['SEASON', 'TEAM_NAME', 'PLAYER_NAME', 'POSITION_GROUP', 'POSITION',\n",
      "       'HOME_TEAM', 'AWAY_TEAM', 'SHOT_MADE', 'ACTION_TYPE', 'SHOT_TYPE',\n",
      "       'BASIC_ZONE', 'ZONE_NAME', 'ZONE_RANGE', 'LOC_X', 'LOC_Y',\n",
      "       'SHOT_DISTANCE', 'MINS_LEFT', 'SECS_LEFT', 'OPP_TEAM', 'PREV_SEASON',\n",
      "       'Player', 'Pos', 'Team', 'MP', 'FG%', '3P%', '2P%', 'eFG%', 'Season',\n",
      "       'DEF_RTG', 'Jump Shot', 'Running Finger Roll Layup Shot',\n",
      "       'Driving Layup Shot', 'Pullup Jump shot',\n",
      "       'Driving Finger Roll Layup Shot', 'Tip Layup Shot',\n",
      "       'Step Back Jump shot', 'Driving Reverse Layup Shot',\n",
      "       'Running Reverse Layup Shot', 'Layup Shot', 'Running Pull-Up Jump Shot',\n",
      "       'Dunk Shot', 'Reverse Layup Shot', 'Running Dunk Shot',\n",
      "       'Floating Jump shot', 'Driving Floating Jump Shot',\n",
      "       'Cutting Layup Shot', 'Putback Layup Shot', 'Turnaround Jump Shot',\n",
      "       'Turnaround Fadeaway shot', 'Running Jump Shot', 'Cutting Dunk Shot',\n",
      "       'Turnaround Hook Shot', 'Running Layup Shot', 'Driving Dunk Shot',\n",
      "       'Fadeaway Jump Shot', 'Cutting Finger Roll Layup Shot',\n",
      "       'Running Alley Oop Layup Shot', 'Driving Floating Bank Jump Shot',\n",
      "       'Running Alley Oop Dunk Shot', 'Driving Hook Shot', 'Putback Dunk Shot',\n",
      "       'Hook Shot', 'Alley Oop Dunk Shot', 'Tip Dunk Shot',\n",
      "       'Alley Oop Layup shot', 'Hook Bank Shot', 'Driving Bank Hook Shot',\n",
      "       'Reverse Dunk Shot', 'Jump Bank Shot', 'Turnaround Bank shot',\n",
      "       'Finger Roll Layup Shot', 'Fadeaway Bank shot',\n",
      "       'Turnaround Fadeaway Bank Jump Shot', 'Turnaround Bank Hook Shot',\n",
      "       'Step Back Bank Jump Shot', 'Driving Reverse Dunk Shot',\n",
      "       'Running Reverse Dunk Shot', 'Pullup Bank shot', 'Driving Bank shot',\n",
      "       'Driving Jump shot', 'No Shot', 'Running Hook Shot', 'Slam Dunk Shot',\n",
      "       'Running Bank shot', 'Tip Shot', 'Putback Slam Dunk Shot',\n",
      "       'Running Tip Shot', 'Driving Slam Dunk Shot', 'Jump Hook Shot',\n",
      "       'Reverse Slam Dunk Shot', 'Running Slam Dunk Shot',\n",
      "       'Running Bank Hook Shot', 'Jump Bank Hook Shot',\n",
      "       'Putback Reverse Dunk Shot', 'Driving Finger Roll Shot',\n",
      "       'Finger Roll Shot', 'Follow Up Dunk Shot',\n",
      "       'Turnaround Finger Roll Shot', 'Running Finger Roll Shot'],\n",
      "      dtype='object')\n"
     ]
    }
   ],
   "source": [
    "print(shot_data.columns)"
   ]
  },
  {
   "cell_type": "markdown",
   "id": "e78fd08c",
   "metadata": {},
   "source": [
    "## Removing excess columns and importing dataset to csv"
   ]
  },
  {
   "cell_type": "code",
   "execution_count": 91,
   "id": "c13099d9",
   "metadata": {},
   "outputs": [],
   "source": [
    "shot_data = shot_data.drop(columns = ['SEASON', 'TEAM_NAME', 'POSITION_GROUP', 'POSITION','HOME_TEAM',\n",
    "                         'AWAY_TEAM', 'ACTION_TYPE', 'OPP_TEAM', 'PREV_SEASON','Player', 'Pos', 'Team','POSITION',\n",
    "                                     'ZONE_RANGE', 'BASIC_ZONE', 'ZONE_NAME'])"
   ]
  },
  {
   "cell_type": "code",
   "execution_count": 92,
   "id": "605581c8",
   "metadata": {},
   "outputs": [
    {
     "name": "stdout",
     "output_type": "stream",
     "text": [
      "Index(['PLAYER_NAME', 'SHOT_MADE', 'SHOT_TYPE', 'LOC_X', 'LOC_Y',\n",
      "       'SHOT_DISTANCE', 'MINS_LEFT', 'SECS_LEFT', 'MP', 'FG%', '3P%', '2P%',\n",
      "       'eFG%', 'Season', 'DEF_RTG', 'Jump Shot',\n",
      "       'Running Finger Roll Layup Shot', 'Driving Layup Shot',\n",
      "       'Pullup Jump shot', 'Driving Finger Roll Layup Shot', 'Tip Layup Shot',\n",
      "       'Step Back Jump shot', 'Driving Reverse Layup Shot',\n",
      "       'Running Reverse Layup Shot', 'Layup Shot', 'Running Pull-Up Jump Shot',\n",
      "       'Dunk Shot', 'Reverse Layup Shot', 'Running Dunk Shot',\n",
      "       'Floating Jump shot', 'Driving Floating Jump Shot',\n",
      "       'Cutting Layup Shot', 'Putback Layup Shot', 'Turnaround Jump Shot',\n",
      "       'Turnaround Fadeaway shot', 'Running Jump Shot', 'Cutting Dunk Shot',\n",
      "       'Turnaround Hook Shot', 'Running Layup Shot', 'Driving Dunk Shot',\n",
      "       'Fadeaway Jump Shot', 'Cutting Finger Roll Layup Shot',\n",
      "       'Running Alley Oop Layup Shot', 'Driving Floating Bank Jump Shot',\n",
      "       'Running Alley Oop Dunk Shot', 'Driving Hook Shot', 'Putback Dunk Shot',\n",
      "       'Hook Shot', 'Alley Oop Dunk Shot', 'Tip Dunk Shot',\n",
      "       'Alley Oop Layup shot', 'Hook Bank Shot', 'Driving Bank Hook Shot',\n",
      "       'Reverse Dunk Shot', 'Jump Bank Shot', 'Turnaround Bank shot',\n",
      "       'Finger Roll Layup Shot', 'Fadeaway Bank shot',\n",
      "       'Turnaround Fadeaway Bank Jump Shot', 'Turnaround Bank Hook Shot',\n",
      "       'Step Back Bank Jump Shot', 'Driving Reverse Dunk Shot',\n",
      "       'Running Reverse Dunk Shot', 'Pullup Bank shot', 'Driving Bank shot',\n",
      "       'Driving Jump shot', 'No Shot', 'Running Hook Shot', 'Slam Dunk Shot',\n",
      "       'Running Bank shot', 'Tip Shot', 'Putback Slam Dunk Shot',\n",
      "       'Running Tip Shot', 'Driving Slam Dunk Shot', 'Jump Hook Shot',\n",
      "       'Reverse Slam Dunk Shot', 'Running Slam Dunk Shot',\n",
      "       'Running Bank Hook Shot', 'Jump Bank Hook Shot',\n",
      "       'Putback Reverse Dunk Shot', 'Driving Finger Roll Shot',\n",
      "       'Finger Roll Shot', 'Follow Up Dunk Shot',\n",
      "       'Turnaround Finger Roll Shot', 'Running Finger Roll Shot'],\n",
      "      dtype='object')\n",
      "85\n"
     ]
    }
   ],
   "source": [
    "print(shot_data.columns)\n",
    "print(len(shot_data.columns))"
   ]
  },
  {
   "cell_type": "code",
   "execution_count": 93,
   "id": "1919ff2f",
   "metadata": {},
   "outputs": [],
   "source": [
    "shot_data.to_csv('shot_name_dataset.csv')"
   ]
  },
  {
   "cell_type": "code",
   "execution_count": 94,
   "id": "4ad59770",
   "metadata": {},
   "outputs": [],
   "source": [
    "shot_data = shot_data.drop(columns = ['PLAYER_NAME'])"
   ]
  },
  {
   "cell_type": "code",
   "execution_count": 95,
   "id": "2b552d02",
   "metadata": {},
   "outputs": [],
   "source": [
    "shot_data.to_csv('shot_dataset.csv')"
   ]
  },
  {
   "cell_type": "code",
   "execution_count": null,
   "id": "d33d8fd7",
   "metadata": {},
   "outputs": [],
   "source": []
  },
  {
   "cell_type": "code",
   "execution_count": null,
   "id": "34872060",
   "metadata": {},
   "outputs": [],
   "source": []
  },
  {
   "cell_type": "code",
   "execution_count": null,
   "id": "f2e48be4",
   "metadata": {},
   "outputs": [],
   "source": []
  },
  {
   "cell_type": "code",
   "execution_count": null,
   "id": "f65527c8",
   "metadata": {},
   "outputs": [],
   "source": []
  },
  {
   "cell_type": "code",
   "execution_count": null,
   "id": "b5ad2f53",
   "metadata": {},
   "outputs": [],
   "source": []
  }
 ],
 "metadata": {
  "kernelspec": {
   "display_name": "Python 3 (ipykernel)",
   "language": "python",
   "name": "python3"
  },
  "language_info": {
   "codemirror_mode": {
    "name": "ipython",
    "version": 3
   },
   "file_extension": ".py",
   "mimetype": "text/x-python",
   "name": "python",
   "nbconvert_exporter": "python",
   "pygments_lexer": "ipython3",
   "version": "3.11.3"
  }
 },
 "nbformat": 4,
 "nbformat_minor": 5
}
